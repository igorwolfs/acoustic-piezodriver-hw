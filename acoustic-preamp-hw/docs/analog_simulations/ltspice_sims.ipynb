{
 "cells": [
  {
   "cell_type": "markdown",
   "id": "ca316d45",
   "metadata": {},
   "source": [
    "This document helps explain how certain simulations should be done correctly in ltspice with respect to:\n",
    "- Differential mode vs single-ended\n",
    "- Getting the right source impedance\n",
    "- Injecting common mode / differential noise\n",
    "\n",
    "For analog circuits"
   ]
  },
  {
   "cell_type": "markdown",
   "id": "3354226e",
   "metadata": {},
   "source": [
    "# Differential vs Common mode source resistance"
   ]
  },
  {
   "cell_type": "markdown",
   "id": "ba3b99c5",
   "metadata": {},
   "source": [
    "![](images/thevenin_diff_source.png)\n",
    "\n",
    "This is a way we can create a differential signal with amplitude V_DIFF with an offset of V_CM.\n",
    "\n",
    "### Thevenin\n",
    "1. Load Rl: assume infinity -> remove\n",
    "2. Remove and calculte open circuit voltage\n",
    "3. Thevenin impedance:\n",
    "\t- Voltage source becomes short\n",
    "\t- Current source becomes open circuit\n",
    "4. Thevenin's equivalent circuit: a short\n",
    "\n",
    "Do this for the differential AND source voltage separately, then later superpose both voltages."
   ]
  }
 ],
 "metadata": {
  "language_info": {
   "name": "python"
  }
 },
 "nbformat": 4,
 "nbformat_minor": 5
}
