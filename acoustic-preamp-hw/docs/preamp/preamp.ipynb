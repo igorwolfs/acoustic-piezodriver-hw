{
 "cells": [
  {
   "cell_type": "markdown",
   "id": "21f65d42",
   "metadata": {},
   "source": [
    "# Choosing a preamp\n",
    "## Specs\n",
    "- Voltage-noise density [in $\\frac{nV}{\\sqrt{Hz}}$]\n",
    "- Input bias current\n",
    "\t- Higher bias current leads to baseline drift\n",
    "\t- Offset in opamp amplification\n",
    "\n",
    "![](images/non_ideal_opamp.png)\n",
    "\n",
    "- $\\frac{1}{f}$ noise corner\n",
    "\t- Some OPAMPS have bad performance at LF / DC\n",
    "- Slew-Rate: Make sure that your amplifier can actually amplify the variations in your signals correctly\n",
    "- GBW-product"
   ]
  },
  {
   "cell_type": "markdown",
   "id": "3643e028",
   "metadata": {},
   "source": [
    "# Making your own Preamp"
   ]
  },
  {
   "cell_type": "markdown",
   "id": "4c875dad",
   "metadata": {},
   "source": [
    "Main issue seems to be the gain and bandwidth. At frequencies of a few MHz most amplifiers have no gain left.\n"
   ]
  },
  {
   "cell_type": "markdown",
   "id": "28314be2",
   "metadata": {},
   "source": []
  }
 ],
 "metadata": {
  "language_info": {
   "name": "python"
  }
 },
 "nbformat": 4,
 "nbformat_minor": 5
}
