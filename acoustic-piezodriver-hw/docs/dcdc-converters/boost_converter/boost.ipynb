{
 "cells": [
  {
   "cell_type": "markdown",
   "id": "4e01f427",
   "metadata": {},
   "source": [
    "# Boost Switching regulator LM3478\n",
    "- Supply: 15 V\n",
    "- Output voltage: Between 20 and 40 V (theoretically up to 45 V)\n",
    "\t- Make the output voltage variable through some variable resistor (Manually / voltage controlled)\n",
    "\n",
    "## Switching architecture\n",
    "- Switching frequency: 100 kHz - 1 MHz\n",
    "- PWM, current mode control architecture\n",
    "- Only fits for low-side switching (no level shifting)\n",
    "\n",
    "## Other features\n",
    "- Thermal shutdown\n",
    "- Short-cicuit protection\n",
    "- Over-voltage protection\n",
    "- **Internal soft-start**"
   ]
  },
  {
   "cell_type": "markdown",
   "id": "5950bd05",
   "metadata": {},
   "source": []
  }
 ],
 "metadata": {
  "language_info": {
   "name": "python"
  }
 },
 "nbformat": 4,
 "nbformat_minor": 5
}
