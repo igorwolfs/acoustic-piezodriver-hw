{
 "cells": [
  {
   "cell_type": "markdown",
   "id": "4e01f427",
   "metadata": {},
   "source": [
    "# Boost Switching regulator LM3478\n",
    "- Supply: 20 V\n",
    "- Output voltage: 40 V (theoretically up to 45 V)\n",
    "\t- Make the output voltage variable through some variable resistor (Manually / voltage controlled)"
   ]
  },
  {
   "cell_type": "code",
   "execution_count": null,
   "id": "53f38530",
   "metadata": {},
   "outputs": [],
   "source": [
    "\n",
    "#############! DESIGN PARAMETERS ##################\n",
    "\n",
    "### Take from LTSpice simulation + add on top\n",
    "I_rms_A = 0.5 # Amps (slightly overdimensioned already)\n",
    "I_peak_A = 1 # Amps, for each bridge spike of 1 amp 180 degrees shifted\n",
    "\n",
    "### DIODE Choice:\n",
    "# 40 V max\n",
    "# 1 A RMS current max\n",
    "V_diode = 0.55 # SS14\n",
    "V_max_diode = 20 # \n",
    "\n",
    "### MOSFET Choice: AO3400A-mosfet\n",
    "Vfet_gsth = 1.45 # Volt\n",
    "Vfet_diode = 1 # Volt\n",
    "Rfet_dsn = 50e-3 # At 3 amps, 2.5 V\n",
    "Vfet_dsn = Rfet_dsn * I_rms_A\n",
    "print(f\"Vfet_dsn {Vfet_dsn}\")\n",
    "\n",
    "# Required Output Voltage\n",
    "Vout = 5.5"
   ]
  },
  {
   "cell_type": "code",
   "execution_count": null,
   "id": "cefff340",
   "metadata": {},
   "outputs": [],
   "source": []
  }
 ],
 "metadata": {
  "kernelspec": {
   "display_name": ".venv",
   "language": "python",
   "name": "python3"
  },
  "language_info": {
   "name": "python",
   "version": "3.12.3"
  }
 },
 "nbformat": 4,
 "nbformat_minor": 5
}
