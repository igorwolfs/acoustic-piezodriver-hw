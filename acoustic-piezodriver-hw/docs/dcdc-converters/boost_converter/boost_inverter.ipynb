{
 "cells": [
  {
   "cell_type": "markdown",
   "id": "4e01f427",
   "metadata": {},
   "source": [
    "# Boost Switching regulator LM3478\n",
    "- Supply: 20 V\n",
    "- Output voltage: 40 V (theoretically up to 45 V)\n",
    "\t- Make the output voltage variable through some variable resistor (Manually / voltage controlled)"
   ]
  },
  {
   "cell_type": "code",
   "execution_count": null,
   "id": "53f38530",
   "metadata": {},
   "outputs": [
    {
     "name": "stdout",
     "output_type": "stream",
     "text": [
      "I_rms_A: 1.5811388300841898\n",
      "Vfet_dsn 0.05059644256269407\n"
     ]
    }
   ],
   "source": [
    "\n",
    "import math\n",
    "#############! DESIGN PARAMETERS ##################\n",
    "### Take from LTSpice simulation + add on top\n",
    "I_peak_A = 2.5 # Amps, for each bridge spike of 1 amp 180 degrees shifted\n",
    "I_rms_A = math.sqrt(I_peak_A) # Amps (slightly overdimensioned already)\n",
    "print(f\"I_rms_A: {I_rms_A}\")\n",
    "\n",
    "### DIODE Choice:\n",
    "# 40 V max\n",
    "# RMS voltage max: 28 V\n",
    "# 5 A RMS current max\n",
    "V_diode = 0.85 # SS210 (Max current: 2 Amps, Max voltage: 100 V)\n",
    "V_max_diode = 100 # \n",
    "\n",
    "### MOSFET Choice: AO3400A-mosfet\n",
    "# AO3400A-mosfet -> To low Vds\n",
    "# NCE6005AS-mosfet -> usable in full bridge as well as sepic + MUCH cheaper\n",
    "Vfet_gsth = 1.6 # Volt\n",
    "Vfet_diode = 1.2 # Volt\n",
    "Rfet_dsn = 32e-3 # At 3 amps, 2.5 V\n",
    "Vfet_dsn = Rfet_dsn * I_rms_A\n",
    "Vds_max = 60 # V\n",
    "Vgs_max = 20 # V\n",
    "Id_max = 5 # A\n",
    "Id_peak = 24 # A (pulsed drain current)\n",
    "print(f\"Vfet_dsn {Vfet_dsn}\")\n",
    "\n",
    "# Required Output Voltage\n",
    "Vout = 10"
   ]
  },
  {
   "cell_type": "code",
   "execution_count": null,
   "id": "cefff340",
   "metadata": {},
   "outputs": [],
   "source": []
  }
 ],
 "metadata": {
  "kernelspec": {
   "display_name": ".venv",
   "language": "python",
   "name": "python3"
  },
  "language_info": {
   "codemirror_mode": {
    "name": "ipython",
    "version": 3
   },
   "file_extension": ".py",
   "mimetype": "text/x-python",
   "name": "python",
   "nbconvert_exporter": "python",
   "pygments_lexer": "ipython3",
   "version": "3.12.3"
  }
 },
 "nbformat": 4,
 "nbformat_minor": 5
}
