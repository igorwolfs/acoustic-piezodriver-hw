{
 "cells": [
  {
   "cell_type": "markdown",
   "id": "4e01f427",
   "metadata": {},
   "source": [
    "# Boost Switching regulator LM3478\n",
    "- Supply: 20 V\n",
    "- Output voltage: 40 V (theoretically up to 45 V)\n",
    "\t- Make the output voltage variable through some variable resistor (Manually / voltage controlled)"
   ]
  },
  {
   "cell_type": "code",
   "execution_count": 4,
   "id": "53f38530",
   "metadata": {},
   "outputs": [
    {
     "name": "stdout",
     "output_type": "stream",
     "text": [
      "I_rms_A: 1.7320508075688772\n",
      "Vfet_dsn 0.05542562584220407\n"
     ]
    }
   ],
   "source": [
    "\n",
    "import math\n",
    "#############! DESIGN PARAMETERS ##################\n",
    "### Take from LTSpice simulation + add on top\n",
    "I_peak_A = 3 # Amps, for each bridge spike of 1 amp 180 degrees shifted\n",
    "I_rms_A = math.sqrt(I_peak_A) # Amps (slightly overdimensioned already)\n",
    "print(f\"I_rms_A: {I_rms_A}\")\n",
    "\n",
    "### DIODE Choice:\n",
    "# 40 V max\n",
    "# RMS voltage max: 28 V\n",
    "# 5 A RMS current max\n",
    "V_diode = 0.85 # SS510 (Max current: 5 Amps, Max voltage: 100 V)\n",
    "V_max_diode = 100 # \n",
    "\n",
    "### MOSFET Choice:\n",
    "# NCE6005AS-mosfet -> usable in full bridge as well as sepic + MUCH cheaper\n",
    "Vfet_gsth = 1.6 # Volt\n",
    "Vfet_diode = 1.2 # Volt\n",
    "Rfet_dsn = 32e-3 # At 3 amps, 2.5 V\n",
    "Vfet_dsn = Rfet_dsn * I_rms_A\n",
    "Vds_max = 60 # V\n",
    "Vgs_max = 20 # V\n",
    "Id_max = 5 # A\n",
    "Id_peak = 24 # A (pulsed drain current)\n",
    "print(f\"Vfet_dsn {Vfet_dsn}\")\n",
    "freq_sw = 500e3\n",
    "\n",
    "# Input voltage\n",
    "Vin = 5\n",
    "\n",
    "# Required Output Voltage\n",
    "Vout = 10"
   ]
  },
  {
   "cell_type": "code",
   "execution_count": 5,
   "id": "cefff340",
   "metadata": {},
   "outputs": [
    {
     "name": "stdout",
     "output_type": "stream",
     "text": [
      "Duty cycle: 0.5442788595246271\n",
      "\n",
      "#### Inductor Selection ####\n",
      "\n",
      "L_min: 0.7160280215663788 uH\n",
      "Il_peak: 3.8551091660926295, Il_avg: 3.800681280140167, dIl: 0.0544278859524627\n",
      "ISW_limit: 3.8551091660926295\n",
      "\n",
      "#### Rsense selection ####\n",
      "\n",
      "R_sense: 0.027476872991147133 should be < 230.00000000000492\n",
      "No RSL addition necessary!\n",
      "\n",
      "#### DIODE selection ####\n",
      "\n",
      "Diode peak current: 3.8551091660926295\n",
      "\n",
      "#### INPUT CAPACITOR SELECTION ####\n",
      "\n",
      "Cin RMS current: 0.02886751345948129 A\n",
      "\n",
      "#### OUTPUT CAPACITOR SELECTION ####\n",
      "\n",
      "Icout_rms 1.8929931561470625 A\n"
     ]
    }
   ],
   "source": [
    "\n",
    "###! >>> Chose Inductor\n",
    "L_ch = 50e-6\n",
    "\n",
    "###! <<< Chose Inductor\n",
    "\n",
    "D_boost = 1 - (Vin-Rfet_dsn*I_rms_A) / (Vout+V_diode)\n",
    "print(f\"Duty cycle: {D_boost}\")\n",
    "\n",
    "print(f\"\\r\\n#### Inductor Selection ####\\r\\n\")\n",
    "L_min = D_boost * (1-D_boost) * Vin / (2 * I_rms_A * freq_sw)\n",
    "print(f\"L_min: {L_min*1e6} uH\")\n",
    "\n",
    "dIl_max = D_boost * Vin / (2 * freq_sw * L_ch)\n",
    "Il_avg = I_rms_A / (1-D_boost)\n",
    "Il_peak = Il_avg + dIl_max\n",
    "print(f\"Il_peak: {Il_peak}, Il_avg: {Il_avg}, dIl: {dIl_max}\")\n",
    "V_sense = 156e-3 # Volt\n",
    "Vsl = 92e-3\n",
    "ISW_limit = (I_rms_A / (1-D_boost) + (D_boost * Vin) / (2 * freq_sw * L_ch))\n",
    "print(f\"ISW_limit: {ISW_limit}\")\n",
    "print(f\"\\r\\n#### Rsense selection ####\\r\\n\")\n",
    "R_sense = (V_sense - D_boost * Vsl) / ISW_limit\n",
    "R_sense_max = 2 * Vsl * freq_sw * L_ch / (Vout - 2 * (Vin-0.01))\n",
    "print(f\"R_sense: {R_sense} should be < {R_sense_max}\")\n",
    "Rsl = (R_sense * (Vout - 2 * Vin) / (2*freq_sw * L_ch) - Vsl) / (40e-3)\n",
    "if (Rsl < 0):\n",
    "\tprint(f\"No RSL addition necessary!\")\n",
    "else:\n",
    "\tprint(f\"RSL should be > {Rsl}\")\n",
    "\n",
    "\n",
    "print(f\"\\r\\n#### DIODE selection ####\\r\\n\")\n",
    "Idiode_peak = I_rms_A / (1-D_boost) + dIl_max\n",
    "print(f\"Diode peak current: {Idiode_peak}\")\n",
    "print(f\"\\r\\n#### INPUT CAPACITOR SELECTION ####\\r\\n\")\n",
    "Icin_rms = (Vout - Vin) / (2 * math.sqrt(3) * Vout * L_ch * freq_sw) * Vin\n",
    "print(f\"Cin RMS current: {Icin_rms} A\")\n",
    "\n",
    "print(f\"\\r\\n#### OUTPUT CAPACITOR SELECTION ####\\r\\n\")\n",
    "Icout_rms = math.sqrt((1-D_boost) * (I_rms_A**2 * D_boost / (1-D_boost)**2 + dIl_max**2 / 3))\n",
    "print(f\"Icout_rms {Icout_rms} A\")"
   ]
  },
  {
   "cell_type": "markdown",
   "id": "8bb8f38a",
   "metadata": {},
   "source": [
    "### Inductor high current (3-5 amps)\n",
    "- Since the boost converter takes about 5 amps through its inductor, we need either a more expensive inductor, or 2 boost-stages which can perform current sharing naturally through CCM.\n",
    "- However CCM doesn't mean that the current is shared perfectly.\n",
    "- Try finding a smaller set of inductors with a higher current rating if possible, that might be usable for all cases (also for the SEPIC's, since they will need it to get from 5 -> 10 V at 1 A rms)"
   ]
  },
  {
   "cell_type": "markdown",
   "id": "6d67a0fd",
   "metadata": {},
   "source": []
  }
 ],
 "metadata": {
  "kernelspec": {
   "display_name": ".venv",
   "language": "python",
   "name": "python3"
  },
  "language_info": {
   "codemirror_mode": {
    "name": "ipython",
    "version": 3
   },
   "file_extension": ".py",
   "mimetype": "text/x-python",
   "name": "python",
   "nbconvert_exporter": "python",
   "pygments_lexer": "ipython3",
   "version": "3.12.3"
  }
 },
 "nbformat": 4,
 "nbformat_minor": 5
}
