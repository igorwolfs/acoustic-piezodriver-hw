{
 "cells": [
  {
   "cell_type": "markdown",
   "id": "790e2452",
   "metadata": {},
   "source": [
    "# Sepic Converter Design"
   ]
  },
  {
   "cell_type": "markdown",
   "id": "18e222f6",
   "metadata": {},
   "source": [
    "### Why SEPIC?\n",
    "- Output only goes above 0 V when the switch is turned on (a.k.a. when sepic starts working)\n",
    "- Less noise on power line (isolated supply through secondary inductor)\n",
    "- 10 V level shifting working both at 5 V or at 20 V supply (20 V => 40 V)"
   ]
  },
  {
   "cell_type": "code",
   "execution_count": 2,
   "id": "309bdc29",
   "metadata": {},
   "outputs": [
    {
     "name": "stdout",
     "output_type": "stream",
     "text": [
      "Vfet_dsn 0.25\n",
      "Duty cycle: 0.6895424836601307\n",
      "Duty cycle: 0.3481848184818482\n",
      "Warning slope compensation required\n"
     ]
    }
   ],
   "source": [
    "I_totrms_A = 5\n",
    "\n",
    "# Take from LTSpice simulation + add on top\n",
    "I_rms_A = 0.5 # Amps (slightly overdimensioned already)\n",
    "I_peak_A = 1 # Amps, for each bridge spike of 1 amp 180 degrees shifted\n",
    "\n",
    "### DIODE Choice:\n",
    "# 40 V max\n",
    "# 1 A RMS current max\n",
    "V_diode = 0.55 # SS14\n",
    "V_max_diode = 20 # \n",
    "\n",
    "### MOSFET Choice: AO3400A-mosfet\n",
    "Vfet_gsth = 1.45 # Volt\n",
    "Vfet_diode = 1 # Volt\n",
    "Rfet_dsn = 50e-3 # At 3 amps, 2.5 V\n",
    "Vfet_dsn = Rfet_dsn * I_totrms_A\n",
    "print(f\"Vfet_dsn {Vfet_dsn}\")\n",
    "#! DESIGN PARAMETERS\n",
    "Vout = 10\n",
    "\n",
    "## Case 1: Input voltage too low (5-10 V)\n",
    "Vin_low = 5\n",
    "D1_sepic = (Vout + V_diode) / (Vout + Vin_low - Rfet_dsn * I_totrms_A  + V_diode)\n",
    "print(f\"Duty cycle: {D1_sepic}\")\n",
    "\n",
    "## Case 1: Input voltage too low (10-20 V)\n",
    "Vin_high = 20\n",
    "D2_sepic = (Vout + V_diode) / (Vout + Vin_high - Rfet_dsn * I_totrms_A  + V_diode)\n",
    "print(f\"Duty cycle: {D2_sepic}\")\n",
    "\n",
    "if (D1_sepic > 0.5 or D2_sepic > 0.5):\n",
    "\tprint(f\"Warning slope compensation required\")"
   ]
  },
  {
   "cell_type": "markdown",
   "id": "108b7220",
   "metadata": {},
   "source": [
    "## Slope Compensation\n"
   ]
  },
  {
   "cell_type": "markdown",
   "id": "b25d3aca",
   "metadata": {},
   "source": [
    "### Inductor choice\n",
    "We can choose 2 inductors wound around the same common core. This would \n",
    "- Give us more boardspace\n",
    "- Require smaller inductors in terms of magnetization (half as big)"
   ]
  },
  {
   "cell_type": "code",
   "execution_count": null,
   "id": "4540796c",
   "metadata": {},
   "outputs": [],
   "source": []
  }
 ],
 "metadata": {
  "kernelspec": {
   "display_name": ".venv",
   "language": "python",
   "name": "python3"
  },
  "language_info": {
   "codemirror_mode": {
    "name": "ipython",
    "version": 3
   },
   "file_extension": ".py",
   "mimetype": "text/x-python",
   "name": "python",
   "nbconvert_exporter": "python",
   "pygments_lexer": "ipython3",
   "version": "3.12.3"
  }
 },
 "nbformat": 4,
 "nbformat_minor": 5
}
