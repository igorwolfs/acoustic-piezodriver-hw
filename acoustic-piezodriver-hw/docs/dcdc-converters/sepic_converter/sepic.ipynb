{
 "cells": [
  {
   "cell_type": "markdown",
   "id": "790e2452",
   "metadata": {},
   "source": [
    "# Sepic Converter [5 V, 20 V] -> 10 V\n",
    "This is the SEPIC converter for converting voltages for the level-shifters of the FET-drivers."
   ]
  },
  {
   "cell_type": "markdown",
   "id": "18e222f6",
   "metadata": {},
   "source": [
    "### Why SEPIC?\n",
    "- Output only goes above 0 V when the switch is turned on (a.k.a. when sepic starts working)\n",
    "- Less noise on power line (isolated supply through secondary inductor)\n",
    "- 10 V level shifting working both at 5 V or at 20 V supply (20 V => 40 V)"
   ]
  },
  {
   "cell_type": "markdown",
   "id": "993d3e7a",
   "metadata": {},
   "source": [
    "## Inductor sizing\n",
    "We can choose 2 inductors wound around the same common core. This would \n",
    "- Give us more boardspace\n",
    "- Require smaller inductors in terms of magnetization (half as big)\n",
    "\n",
    "This option seems to be more expensive however, so think about simply buying twice the inductor, since the board-size is not a limitation anyways."
   ]
  },
  {
   "cell_type": "markdown",
   "id": "551423d9",
   "metadata": {},
   "source": [
    "### Variables required for calculation"
   ]
  },
  {
   "cell_type": "code",
   "execution_count": null,
   "id": "ea893b89",
   "metadata": {},
   "outputs": [
    {
     "name": "stdout",
     "output_type": "stream",
     "text": [
      "Vfet_dsn 0.25\n"
     ]
    }
   ],
   "source": [
    "\n",
    "#############! DESIGN PARAMETERS ##################\n",
    "\n",
    "I_totrms_A = 5\n",
    "\n",
    "### Take from LTSpice simulation + add on top\n",
    "I_rms_A = 0.5 # Amps (slightly overdimensioned already)\n",
    "I_peak_A = 1 # Amps, for each bridge spike of 1 amp 180 degrees shifted\n",
    "\n",
    "### DIODE Choice:\n",
    "# 40 V max\n",
    "# 1 A RMS current max\n",
    "V_diode = 0.55 # SS14\n",
    "V_max_diode = 20 # \n",
    "\n",
    "### MOSFET Choice: AO3400A-mosfet\n",
    "Vfet_gsth = 1.45 # Volt\n",
    "Vfet_diode = 1 # Volt\n",
    "Rfet_dsn = 50e-3 # At 3 amps, 2.5 V\n",
    "Vfet_dsn = Rfet_dsn * I_totrms_A\n",
    "print(f\"Vfet_dsn {Vfet_dsn}\")\n",
    "\n",
    "# Required Output Voltage\n",
    "Vout = 10"
   ]
  },
  {
   "cell_type": "markdown",
   "id": "22a6620a",
   "metadata": {},
   "source": [
    "### Case 1:  (Vin=5 V) lowest possible input voltage"
   ]
  },
  {
   "cell_type": "code",
   "execution_count": 190,
   "id": "47ad9f5b",
   "metadata": {},
   "outputs": [],
   "source": [
    "\n",
    "#! >>> SET INPUT VOLTAGE min max\n",
    "Vin_list = [20, 5]\n",
    "#! <<< SET INPUT VOLTAGE"
   ]
  },
  {
   "cell_type": "code",
   "execution_count": 191,
   "id": "2fdcf0e0",
   "metadata": {},
   "outputs": [
    {
     "name": "stdout",
     "output_type": "stream",
     "text": [
      "\n",
      "##################################################\n",
      "################# VIN == 20 ###################\n",
      "##################################################\n",
      "Duty cycle: 0.3481848184818482, time the switch is closed\n",
      "\n",
      "MINIMUM INDUCTOR SIZE\n",
      "L1_sepic: 25.746699669967 uH, L2_sepic: 13.753300330033003 uH\n",
      "\n",
      "##################################################\n",
      "################# VIN == 5 ###################\n",
      "##################################################\n",
      "Duty cycle: 0.6895424836601307, time the switch is closed\n",
      "Warning slope compensation required\n",
      "\n",
      "MINIMUM INDUCTOR SIZE\n",
      "L1_sepic: 2.9493464052287583 uH, L2_sepic: 6.550653594771242 uH\n"
     ]
    }
   ],
   "source": [
    "for Vin in Vin_list:\n",
    "\tprint(f\"\\r\\n##################################################\")\n",
    "\tprint(f\"################# VIN == {Vin} ###################\")\n",
    "\tprint(f\"##################################################\")\n",
    "\n",
    "\tD_sepic = (Vout + V_diode) / (Vout + Vin - Rfet_dsn * I_totrms_A  + V_diode)\n",
    "\tprint(f\"Duty cycle: {D_sepic}, time the switch is closed\")\n",
    "\n",
    "\tif (D_sepic > 0.5):\n",
    "\t\tprint(f\"Warning slope compensation required\")\n",
    "\n",
    "\t##### MINIMUM INDUCTOR SIZE #######\n",
    "\tprint(f\"\\r\\nMINIMUM INDUCTOR SIZE\")\n",
    "\tfreq_sw = 500e3\n",
    "\n",
    "\tI1_sepic = D_sepic * I_rms_A / (1-D_sepic)\n",
    "\tI2_sepic = I_rms_A\n",
    "\n",
    "\t# Inductance\n",
    "\tL1_sepic = (Vin - Vfet_dsn) * (1-D_sepic) / (2 * I_rms_A * freq_sw)\n",
    "\tL2_sepic = (Vin - Vfet_dsn) * (D_sepic) / (2 * I_rms_A * freq_sw)\n",
    "\n",
    "\tprint(f\"L1_sepic: {L1_sepic*1e6} uH, L2_sepic: {L2_sepic*1e6} uH\")"
   ]
  },
  {
   "cell_type": "markdown",
   "id": "d6c4aee5",
   "metadata": {},
   "source": [
    "### SEPIC passives sizing\n",
    "#### \n",
    "#### Required slope compensation \n",
    "Check **[dcdc_choice.md](../dcdc_choice.md)** for more information about current sensing slope."
   ]
  },
  {
   "cell_type": "code",
   "execution_count": null,
   "id": "7facc8de",
   "metadata": {},
   "outputs": [
    {
     "name": "stdout",
     "output_type": "stream",
     "text": [
      "\n",
      "##################################################\n",
      "################### VIN == 20 #####################\n",
      "##################################################\n",
      "Duty cycle: 0.3481848184818482, time the switch is closed\n",
      "\n",
      "MINIMUM INDUCTOR SIZE\n",
      "L1_sepic: 25.746699669967 uH, L2_sepic: 13.753300330033003 uH\n",
      "\n",
      "#### PEAK CURRENT CALCULATION ####\n",
      "dIl1: 0.22922167216721673 A, dIl2: 0.22922167216721673 A\n",
      "Il1_peak: 0.381699443678545 A, Il2_peak: 0.6146108360836083 A\n",
      "\n",
      "#### OUTPUT VOLTAGE RIPPLE (ESR-DEPENDENT) ####\n",
      "dVout: 0.08816994436785451 V\n",
      "\n",
      "#### SEPIC CAPACITOR SELECTION ####\n",
      "I_SW_RMS: 0.45932429039814143 A\n",
      "I_SW_PEAK: 0.9963102797621535 A\n",
      "I_cap_rms 0.5321305657150515 A, V_max: 20 V, cap_min 0.03845537574106714 uF\n",
      "\n",
      "#### INPUT CAPACITOR SELECTION ####\n",
      "Input capacitor RMS current 0.06617059706491936 A\n",
      "\n",
      "#### OUTPUT CAPACITOR SELECTION ####\n",
      "output capacitor RMS current: 0.3807365490938508 A\n",
      "\n",
      "#### SLOPE COMPENSATION, SENSE RESISTOR SELECTION ####\n",
      "R_sense: 0.12441211520624046 Ohm\n",
      "I_max: 1.253897176664794 A\n",
      "Slope compensation resistor: 1, Duty: 0.3481848184818482\n",
      "\n",
      "##################################################\n",
      "################### VIN == 5 #####################\n",
      "##################################################\n",
      "Duty cycle: 0.6895424836601307, time the switch is closed\n",
      "Warning slope compensation required\n",
      "\n",
      "MINIMUM INDUCTOR SIZE\n",
      "L1_sepic: 2.9493464052287583 uH, L2_sepic: 6.550653594771242 uH\n",
      "\n",
      "#### PEAK CURRENT CALCULATION ####\n",
      "dIl1: 0.10917755991285402 A, dIl2: 0.10917755991285402 A\n",
      "Il1_peak: 1.1651150957459007 A, Il2_peak: 0.554588779956427 A\n",
      "\n",
      "#### OUTPUT VOLTAGE RIPPLE (ESR-DEPENDENT) ####\n",
      "dVout: 0.16651150957459007 V\n",
      "\n",
      "#### SEPIC CAPACITOR SELECTION ####\n",
      "I_SW_RMS: 1.3383839427592628 A\n",
      "I_SW_PEAK: 1.7197038757023275 A\n",
      "I_cap_rms 1.4754404578893 A, V_max: 5 V, cap_min 0.6648199445983379 uF\n",
      "\n",
      "#### INPUT CAPACITOR SELECTION ####\n",
      "Input capacitor RMS current 0.03151684680257638 A\n",
      "\n",
      "#### OUTPUT CAPACITOR SELECTION ####\n",
      "output capacitor RMS current: 0.7459870522630362 A\n",
      "\n",
      "#### SLOPE COMPENSATION, SENSE RESISTOR SELECTION ####\n",
      "R_sense: 0.05380839754526369 Ohm\n",
      "I_max: 2.899175725662014 A\n",
      "Slope compensation resistor: 1, Duty: 0.6895424836601307\n"
     ]
    }
   ],
   "source": [
    "from IPython.core.interactiveshell import InteractiveShell\n",
    "InteractiveShell.ast_node_interactivity = \"all\"\n",
    "#! >>> INSERT CHOICE\n",
    "# Set ESR of output capacitor\n",
    "ESR_cout = 0.1 # ESR of output capacitor\n",
    "L1_ch = 60e-6#L1_sepic\n",
    "L2_ch = 60e-6#L2_sepic\n",
    "#! <<< INSERT CHOICE\n",
    "import math \n",
    "for Vin in Vin_list:\n",
    "\tprint(f\"\\r\\n##################################################\")\n",
    "\tprint(f\"################### VIN == {Vin} #####################\")\n",
    "\tprint(f\"##################################################\")\n",
    "\n",
    "\tD_sepic = (Vout + V_diode) / (Vout + Vin - Rfet_dsn * I_totrms_A  + V_diode)\n",
    "\tprint(f\"Duty cycle: {D_sepic}, time the switch is closed\")\n",
    "\n",
    "\tif (D_sepic > 0.5):\n",
    "\t\tprint(f\"Warning slope compensation required\")\n",
    "\n",
    "\t##### MINIMUM INDUCTOR SIZE #######\n",
    "\tprint(f\"\\r\\nMINIMUM INDUCTOR SIZE\")\n",
    "\tfreq_sw = 500e3\n",
    "\n",
    "\tI1_sepic = D_sepic * I_rms_A / (1-D_sepic)\n",
    "\tI2_sepic = I_rms_A\n",
    "\n",
    "\t# Inductance\n",
    "\tL1_sepic = (Vin - Vfet_dsn) * (1-D_sepic) / (2 * I_rms_A * freq_sw)\n",
    "\tL2_sepic = (Vin - Vfet_dsn) * (D_sepic) / (2 * I_rms_A * freq_sw)\n",
    "\n",
    "\tprint(f\"L1_sepic: {L1_sepic*1e6} uH, L2_sepic: {L2_sepic*1e6} uH\")\n",
    "\t\n",
    "\n",
    "\t##### PEAK CURRENT CALCULATION #######\n",
    "\tprint(f\"\\r\\n#### PEAK CURRENT CALCULATION ####\")\n",
    "\t# Peak current\n",
    "\tdIl1 = (Vin - Vfet_dsn) * D_sepic / (L1_ch * freq_sw)\n",
    "\tdIl2 = (Vin - Vfet_dsn) * D_sepic / (L2_ch * freq_sw)\n",
    "\tprint(f\"dIl1: {dIl1} A, dIl2: {dIl2} A\")\n",
    "\n",
    "\tIl1_peak = I1_sepic + dIl1 / 2\n",
    "\tIl2_peak = I2_sepic + dIl2 / 2\n",
    "\tprint(f\"Il1_peak: {Il1_peak} A, Il2_peak: {Il2_peak} A\")\n",
    "\n",
    "\t######## OUTPUT VOLTAGE RIPPLE #########\n",
    "\tprint(f\"\\r\\n#### OUTPUT VOLTAGE RIPPLE (ESR-DEPENDENT) ####\")\n",
    "\n",
    "\tdVout = ((I_rms_A / (1-D_sepic)) + dIl2 / 2) * ESR_cout\n",
    "\tprint(f\"dVout: {dVout} V\")\n",
    "\n",
    "\t######## SEPIC CAPACITOR SELECTION #########\n",
    "\tprint(f\"\\r\\n#### SEPIC CAPACITOR SELECTION ####\")\n",
    "\tI_sw_peak = I1_sepic + I_rms_A + (dIl1 + dIl2) / 2\n",
    "\tI_swrms = math.sqrt((I_sw_peak**2 - I_sw_peak*(dIl1 + dIl2) + (dIl1 + dIl2)**2 / 3)*D_sepic)\n",
    "\tprint(f\"I_SW_RMS: {I_swrms} A\")\n",
    "\tprint(f\"I_SW_PEAK: {I_sw_peak} A\")\n",
    "\n",
    "\tI_cap_rms = math.sqrt(I_swrms**2 + (Il1_peak**2-Il1_peak*dIl1+dIl1**2) * (1-D_sepic))\n",
    "\tV_cap_rms = Vin\n",
    "\tC_min = L1_ch * I_rms_A**2 / (Vin-Vfet_dsn)**2\n",
    "\n",
    "\tprint(f\"I_cap_rms {I_cap_rms} A, V_max: {V_cap_rms} V, cap_min {C_min*1e6} uF\")\n",
    "\n",
    "\t######## INPUT CAPACITOR SELECTION #########\n",
    "\tprint(f\"\\r\\n#### INPUT CAPACITOR SELECTION ####\")\n",
    "\tI_cin_rms = (D_sepic / (2 * math.sqrt(3))) * ((Vin - Vfet_dsn) / (L1_ch * freq_sw))\n",
    "\tprint(f\"Input capacitor RMS current {I_cin_rms} A\")\n",
    "\n",
    "\n",
    "\t######## OUTPUT CAPACITOR SELECTION #########\n",
    "\tprint(f\"\\r\\n#### OUTPUT CAPACITOR SELECTION ####\")\n",
    "\tI_cout_rms = math.sqrt((I_sw_peak**2 - I_sw_peak * (dIl1 + dIl2) + ((dIl2+ dIl1)**2)/3.0) * (1-D_sepic) - I_rms_A**2)\n",
    "\tprint(f\"output capacitor RMS current: {I_cout_rms} A\")\n",
    "\n",
    "\n",
    "\t######## SLOPE COMPENSATION #######\n",
    "\tprint(f\"\\r\\n#### SLOPE COMPENSATION, SENSE RESISTOR SELECTION ####\")\n",
    "\tV_sense = 0.156 # Volt - FIXED current sense threshold voltage\n",
    "\tV_sl = 92e-3 # Internal compensation ramp voltage\n",
    "\tV_sl_ratio = 0.49\n",
    "\tR_sl = 1\n",
    "\tK_sl = 40e-6\n",
    "\tdV_sl = K_sl * R_sl\n",
    "\n",
    "\t### R_sen estimation (boost equations)\n",
    "\tR_sense = (V_sense - D_sepic * (V_sl + dV_sl)) / I_sw_peak # (eq. 48)\n",
    "\tprint(f\"R_sense: {R_sense} Ohm\")\n",
    "\tprint(f\"I_max: {V_sense / R_sense} A\")\n",
    "\t### Slope compensation\n",
    "\t# R_sl = ((R_sense * (Vout - 2*Vin)) / (2*freq_sw*L1_ch) - V_sl) / K_sl\n",
    "\tprint(f\"Slope compensation resistor: {R_sl}, Duty: {D_sepic}\")"
   ]
  },
  {
   "cell_type": "markdown",
   "id": "105906e1",
   "metadata": {},
   "source": [
    "## Setting output voltage\n",
    "- Don't forget to connect an output capacitor between feedback and ground pins\n",
    "\t- Reduces bandwidth\n",
    "\t- Reduces susceptibility to noise"
   ]
  },
  {
   "cell_type": "code",
   "execution_count": 193,
   "id": "3066f804",
   "metadata": {},
   "outputs": [
    {
     "name": "stdout",
     "output_type": "stream",
     "text": [
      "Resistors: 60.00 kOhm, 8.65 kOhm\n"
     ]
    }
   ],
   "source": [
    "RF1 = 60e3 # 60 kOhms feedback in example \n",
    "RF2 = (1.26 * RF1) / (Vout - 1.26)\n",
    "\n",
    "print(f\"Resistors: {RF1*1e-3:.2f} kOhm, {RF2*1e-3:.2f} kOhm\")"
   ]
  },
  {
   "cell_type": "markdown",
   "id": "2bf0658e",
   "metadata": {},
   "source": [
    "## Setting Current Limit"
   ]
  },
  {
   "cell_type": "markdown",
   "id": "5d5720f0",
   "metadata": {},
   "source": []
  },
  {
   "cell_type": "markdown",
   "id": "a7f9d793",
   "metadata": {},
   "source": [
    "### Compensation design for RHP in voltage feedback loop\n",
    "(Check TI-AN1484)\n",
    "The right-half plane zero:\n",
    "- Shifts the phase -90 degrees, so make sure crossover happens way before f_rhzp\n",
    "- Is lowest and thus more critical with D highest, so choose V = 5 V (lowest) since D is highest there.\n",
    "\n",
    "The resonant LC pole:\n",
    "- Make sure the bandwidth is far below that, at resonance we get a phase-shift of -180 degrees\n",
    "\n",
    "Crossover frequency:\n",
    "- Frequency where open-loop transfer function drops below 0 dB (Gain: 1)\n",
    "\n",
    "Make sure to lower cutoff frequency so positive feedback is avoided."
   ]
  },
  {
   "cell_type": "code",
   "execution_count": 200,
   "id": "04576dbf",
   "metadata": {},
   "outputs": [
    {
     "name": "stdout",
     "output_type": "stream",
     "text": [
      "\n",
      "##################################################\n",
      "################### VIN == 5 #####################\n",
      "##################################################\n",
      "Right Half plane zero: 20.00kHz\n",
      "Cs-L2 Resonance: 6.50kHz\n",
      "Crossover frequency: 1.08kHz\n",
      "Gcs: 11.023742792963638\n",
      "Rc: 3.11kOhm\n",
      "Cc1: 189.10489164086692nF, Cc2: 3.216739530447416nF\n"
     ]
    }
   ],
   "source": [
    "\n",
    "#! >>> INSERT COUPLING CAPACITOR CHOICE HERE\n",
    "C_coupling_ch = 10e-6 # F\n",
    "D_sepic_max = 0.65\n",
    "Vin = 5\n",
    "Cin_ch = 100e-6\n",
    "Cout_ch = 100e-6\n",
    "#! <<< INSERT COUPLING CAPACITOR CHOICE HERE\n",
    "\n",
    "# LOAD POLE ESTIMATION\n",
    "print(f\"\\r\\n##################################################\")\n",
    "print(f\"################### VIN == {Vin} #####################\")\n",
    "print(f\"##################################################\")\n",
    "# RIGHT HALF PLANE ZERO\n",
    "f_RHPZ = (1 - D_sepic_max) **2 * Vout / (2 * math.pi * D_sepic_max * L2_ch * 0.5 * I_rms_A)\n",
    "print(f\"Right Half plane zero: {f_RHPZ*1e-3:.2f}kHz\")\n",
    "# RESONANT LC POLE \n",
    "f_R = 1 / (2*math.pi * math.sqrt(L2_ch * C_coupling_ch))\n",
    "print(f\"Cs-L2 Resonance: {f_R*1e-3:.2f}kHz\")\n",
    "f_crossover = min(f_R, f_RHPZ) / 6\n",
    "print(f\"Crossover frequency: {f_crossover*1e-3:.2f}kHz\")\n",
    "\n",
    "#### COMPENSATION NETWORK CHOICE\n",
    "# CHOICE OF RC\n",
    "Gcs = 1/R_sense # Current sense gain\n",
    "print(f\"Gcs: {Gcs}\")\n",
    "Gma = 800e-6 # Error Amplifier Transconductance\n",
    "Rc = (2 * math.pi * f_crossover * Cout_ch * Vout**2 * (1+D_sepic_max))\n",
    "Rc = Rc / (Gcs*Gma*1.26*Vin*D_sepic_max)\n",
    "print(f\"Rc: {Rc*1e-3:.2f}kOhm\")\n",
    "\n",
    "# CHOICE OF CC1 (1/4th crossover frequency)\n",
    "Cc1 = 4 / (2 * math.pi * f_crossover * Rc)\n",
    "Cc2 = Cout_ch * ESR_cout / Rc\n",
    "print(f\"Cc1: {Cc1*1e9}nF, Cc2: {Cc2*1e9}nF\")"
   ]
  },
  {
   "cell_type": "markdown",
   "id": "39a7dcb7",
   "metadata": {},
   "source": [
    "## Mosfet / Diode Selection"
   ]
  },
  {
   "cell_type": "code",
   "execution_count": null,
   "id": "b43e97ca",
   "metadata": {},
   "outputs": [
    {
     "name": "stdout",
     "output_type": "stream",
     "text": [
      "V_sw_peak: 30.55\n"
     ]
    }
   ],
   "source": [
    "V_sw_peak = Vin + Vout + V_diode\n",
    "print(f\"V_sw_peak: {V_sw_peak}\")"
   ]
  }
 ],
 "metadata": {
  "kernelspec": {
   "display_name": ".venv",
   "language": "python",
   "name": "python3"
  },
  "language_info": {
   "codemirror_mode": {
    "name": "ipython",
    "version": 3
   },
   "file_extension": ".py",
   "mimetype": "text/x-python",
   "name": "python",
   "nbconvert_exporter": "python",
   "pygments_lexer": "ipython3",
   "version": "3.12.3"
  }
 },
 "nbformat": 4,
 "nbformat_minor": 5
}
