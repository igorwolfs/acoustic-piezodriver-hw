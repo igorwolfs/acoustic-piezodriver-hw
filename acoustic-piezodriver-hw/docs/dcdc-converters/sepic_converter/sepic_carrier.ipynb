{
 "cells": [
  {
   "cell_type": "markdown",
   "id": "790e2452",
   "metadata": {},
   "source": [
    "# Sepic Converter [3 V, 20 V] -> 5.5 V\n",
    "This is the SEPIC converter meant for converting the supply board voltage (3, 20) V into a 5.5 V board supply voltage. (Taking into account the diode drop)"
   ]
  },
  {
   "cell_type": "markdown",
   "id": "993d3e7a",
   "metadata": {},
   "source": [
    "## Inductor sizing\n",
    "We can choose 2 inductors wound around the same common core. This would \n",
    "- Give us more boardspace\n",
    "- Require smaller inductors in terms of magnetization (half as big)\n",
    "\n",
    "This option seems to be more expensive however, so think about simply buying twice the inductor, since the board-size is not a limitation anyways."
   ]
  },
  {
   "cell_type": "markdown",
   "id": "551423d9",
   "metadata": {},
   "source": [
    "### Variables required for calculation"
   ]
  },
  {
   "cell_type": "code",
   "execution_count": 2,
   "id": "ea893b89",
   "metadata": {},
   "outputs": [
    {
     "name": "stdout",
     "output_type": "stream",
     "text": [
      "Vfet_dsn 0.016\n"
     ]
    }
   ],
   "source": [
    "\n",
    "#############! DESIGN PARAMETERS ##################\n",
    "\n",
    "### Take from LTSpice simulation + add on top\n",
    "I_rms_A = 0.5 # Amps (slightly overdimensioned already)\n",
    "I_peak_A = 1 # Amps, for each bridge spike of 1 amp 180 degrees shifted\n",
    "\n",
    "### DIODE Choice:\n",
    "# 40 V max\n",
    "# 1 A RMS current max\n",
    "V_diode = 0.55 # SS14\n",
    "V_max_diode = 20 # \n",
    "\n",
    "### MOSFET Choice: \n",
    "# AO3400A-mosfet -> To low Vds\n",
    "# NCE6005AS-mosfet -> usable in full bridge as well as sepic + MUCH cheaper\n",
    "Vfet_gsth = 1.6 # Volt\n",
    "Vfet_diode = 1.2 # Volt\n",
    "Rfet_dsn = 32e-3 # At 3 amps, 2.5 V\n",
    "Vfet_dsn = Rfet_dsn * I_rms_A\n",
    "Vds_max = 60 # V\n",
    "Vgs_max = 20 # V\n",
    "Id_max = 5 # A\n",
    "Id_peak = 24 # A (pulsed drain current)\n",
    "print(f\"Vfet_dsn {Vfet_dsn}\")\n",
    "\n",
    "# Required Output Voltage\n",
    "Vout = 5.5"
   ]
  },
  {
   "cell_type": "markdown",
   "id": "22a6620a",
   "metadata": {},
   "source": [
    "### Calculations for (Vin_min = 5, Vin_max = 20V)"
   ]
  },
  {
   "cell_type": "code",
   "execution_count": 3,
   "id": "47ad9f5b",
   "metadata": {},
   "outputs": [],
   "source": [
    "\n",
    "#! >>> SET INPUT VOLTAGE min max\n",
    "Vin_list = [20, 3.3]\n",
    "#! <<< SET INPUT VOLTAGE"
   ]
  },
  {
   "cell_type": "code",
   "execution_count": 4,
   "id": "2fdcf0e0",
   "metadata": {},
   "outputs": [
    {
     "name": "stdout",
     "output_type": "stream",
     "text": [
      "\n",
      "##################################################\n",
      "################# VIN == 20 ###################\n",
      "##################################################\n",
      "Duty cycle: 0.23238841514941996, time the switch is closed\n",
      "\n",
      "MINIMUM INDUCTOR SIZE\n",
      "L1_sepic: 30.679899823307984 uH, L2_sepic: 9.288100176692017 uH\n",
      "\n",
      "##################################################\n",
      "################# VIN == 3.3 ###################\n",
      "##################################################\n",
      "Duty cycle: 0.648167988000857, time the switch is closed\n",
      "Warning slope compensation required\n",
      "\n",
      "MINIMUM INDUCTOR SIZE\n",
      "L1_sepic: 2.3108326548103713 uH, L2_sepic: 4.257167345189628 uH\n"
     ]
    }
   ],
   "source": [
    "for Vin in Vin_list:\n",
    "\tprint(f\"\\r\\n##################################################\")\n",
    "\tprint(f\"################# VIN == {Vin} ###################\")\n",
    "\tprint(f\"##################################################\")\n",
    "\n",
    "\tD_sepic = (Vout + V_diode) / (Vout + Vin - Rfet_dsn * I_rms_A  + V_diode)\n",
    "\tprint(f\"Duty cycle: {D_sepic}, time the switch is closed\")\n",
    "\n",
    "\tif (D_sepic > 0.5):\n",
    "\t\tprint(f\"Warning slope compensation required\")\n",
    "\n",
    "\t##### MINIMUM INDUCTOR SIZE #######\n",
    "\tprint(f\"\\r\\nMINIMUM INDUCTOR SIZE\")\n",
    "\tfreq_sw = 500e3\n",
    "\n",
    "\tI1_sepic = D_sepic * I_rms_A / (1-D_sepic)\n",
    "\tI2_sepic = I_rms_A\n",
    "\n",
    "\t# Inductance\n",
    "\tL1_sepic = (Vin - Vfet_dsn) * (1-D_sepic) / (2 * I_rms_A * freq_sw)\n",
    "\tL2_sepic = (Vin - Vfet_dsn) * (D_sepic) / (2 * I_rms_A * freq_sw)\n",
    "\n",
    "\tprint(f\"L1_sepic: {L1_sepic*1e6} uH, L2_sepic: {L2_sepic*1e6} uH\")"
   ]
  },
  {
   "cell_type": "markdown",
   "id": "d6c4aee5",
   "metadata": {},
   "source": [
    "### SEPIC passives sizing\n",
    "(check [sepic_fetdriver.ipynb](sepic_fetdriver.ipynb) for more details)"
   ]
  },
  {
   "cell_type": "code",
   "execution_count": 6,
   "id": "7facc8de",
   "metadata": {},
   "outputs": [
    {
     "name": "stdout",
     "output_type": "stream",
     "text": [
      "\n",
      "##################################################\n",
      "################### VIN == 20 #####################\n",
      "##################################################\n",
      "Duty cycle: 0.23238841514941996, time the switch is closed\n",
      "\n",
      "MINIMUM INDUCTOR SIZE\n",
      "L1_sepic: 30.679899823307984 uH, L2_sepic: 9.288100176692017 uH\n",
      "\n",
      "INDUCTOR CHOICE\n",
      "L1_ch: 60.0 uH, L2_ch: 60.0 uH\n",
      "\n",
      "#### PEAK CURRENT CALCULATION ####\n",
      "dIl1: 0.15480166961153363 A, dIl2: 0.15480166961153363 A\n",
      "Il1_peak: 0.22877193168326881 A, Il2_peak: 0.5774008348057669 A\n",
      "\n",
      "#### OUTPUT VOLTAGE RIPPLE (ESR-DEPENDENT) ####\n",
      "dVout: 0.0007287719316832689 V\n",
      "\n",
      "#### SEPIC CAPACITOR SELECTION ####\n",
      "I_SW_RMS: 0.3169464335597079 A\n",
      "I_SW_PEAK: 0.8061727664890356 A\n",
      "[C_coupling_minimum] 0.03756007207687687 uF, I_cap_rms 0.3630971141774226 A, V_max: 20 V\n",
      "\n",
      "#### INPUT CAPACITOR SELECTION ####\n",
      "Input capacitor RMS current 0.04468739281061122 A\n",
      "\n",
      "#### OUTPUT CAPACITOR SELECTION ####\n",
      "output capacitor RMS current: 0.2860369144114464 A\n",
      "\n",
      "#### SLOPE COMPENSATION | SENSE RESISTOR SELECTION ####\n",
      "R_sense: 0.16697533812248688 Ohm\n",
      "I_max: 0.9342697056589532 A\n",
      "Slope compensation resistor: 1, Duty: 0.23238841514941996\n",
      "\n",
      "##################################################\n",
      "################### VIN == 3.3 #####################\n",
      "##################################################\n",
      "Duty cycle: 0.648167988000857, time the switch is closed\n",
      "Warning slope compensation required\n",
      "\n",
      "MINIMUM INDUCTOR SIZE\n",
      "L1_sepic: 2.3108326548103713 uH, L2_sepic: 4.257167345189628 uH\n",
      "\n",
      "INDUCTOR CHOICE\n",
      "L1_ch: 60.0 uH, L2_ch: 60.0 uH\n",
      "\n",
      "#### PEAK CURRENT CALCULATION ####\n",
      "dIl1: 0.0709527890864938 A, dIl2: 0.0709527890864938 A\n",
      "Il1_peak: 0.9566091594640747 A, Il2_peak: 0.5354763945432469 A\n",
      "\n",
      "#### OUTPUT VOLTAGE RIPPLE (ESR-DEPENDENT) ####\n",
      "dVout: 0.0014566091594640747 V\n",
      "\n",
      "#### SEPIC CAPACITOR SELECTION ####\n",
      "I_SW_RMS: 1.144613316102852 A\n",
      "I_SW_PEAK: 1.4920855540073215 A\n",
      "[C_coupling_minimum] 1.3908649473845065 uF, I_cap_rms 1.2688547786604998 A, V_max: 3.3 V\n",
      "\n",
      "#### INPUT CAPACITOR SELECTION ####\n",
      "Input capacitor RMS current 0.02048230593942097 A\n",
      "\n",
      "#### OUTPUT CAPACITOR SELECTION ####\n",
      "output capacitor RMS current: 0.6790852608899218 A\n",
      "\n",
      "#### SLOPE COMPENSATION | SENSE RESISTOR SELECTION ####\n",
      "R_sense: 0.06456909801562785 Ohm\n",
      "I_max: 2.4160164040427334 A\n",
      "Slope compensation resistor: 1, Duty: 0.648167988000857\n"
     ]
    }
   ],
   "source": [
    "from IPython.core.interactiveshell import InteractiveShell\n",
    "InteractiveShell.ast_node_interactivity = \"all\"\n",
    "#! >>> INSERT CHOICE\n",
    "# Set ESR of output capacitor\n",
    "ESR_cout = 1e-3 # ESR of output capacitor\n",
    "L1_ch = 60e-6#L1_sepic\n",
    "L2_ch = 60e-6#L2_sepic\n",
    "#! <<< INSERT CHOICE\n",
    "import math \n",
    "for Vin in Vin_list:\n",
    "\tprint(f\"\\r\\n##################################################\")\n",
    "\tprint(f\"################### VIN == {Vin} #####################\")\n",
    "\tprint(f\"##################################################\")\n",
    "\n",
    "\tD_sepic = (Vout + V_diode) / (Vout + Vin - Rfet_dsn * I_rms_A  + V_diode)\n",
    "\tprint(f\"Duty cycle: {D_sepic}, time the switch is closed\")\n",
    "\n",
    "\tif (D_sepic > 0.5):\n",
    "\t\tprint(f\"Warning slope compensation required\")\n",
    "\n",
    "\t##### MINIMUM INDUCTOR SIZE #######\n",
    "\tprint(f\"\\r\\nMINIMUM INDUCTOR SIZE\")\n",
    "\tfreq_sw = 500e3\n",
    "\n",
    "\tI1_sepic = D_sepic * I_rms_A / (1-D_sepic)\n",
    "\tI2_sepic = I_rms_A\n",
    "\n",
    "\t# Inductance\n",
    "\tL1_sepic = (Vin - Vfet_dsn) * (1-D_sepic) / (2 * I_rms_A * freq_sw)\n",
    "\tL2_sepic = (Vin - Vfet_dsn) * (D_sepic) / (2 * I_rms_A * freq_sw)\n",
    "\n",
    "\tprint(f\"L1_sepic: {L1_sepic*1e6} uH, L2_sepic: {L2_sepic*1e6} uH\")\n",
    "\t\n",
    "\tprint(f\"\\r\\nINDUCTOR CHOICE\")\n",
    "\tprint(f\"L1_ch: {L1_ch*1e6} uH, L2_ch: {L2_ch*1e6} uH\")\n",
    "\n",
    "\t##### PEAK CURRENT CALCULATION #######\n",
    "\tprint(f\"\\r\\n#### PEAK CURRENT CALCULATION ####\")\n",
    "\t# Peak current\n",
    "\tdIl1 = (Vin - Vfet_dsn) * D_sepic / (L1_ch * freq_sw)\n",
    "\tdIl2 = (Vin - Vfet_dsn) * D_sepic / (L2_ch * freq_sw)\n",
    "\tprint(f\"dIl1: {dIl1} A, dIl2: {dIl2} A\")\n",
    "\n",
    "\tIl1_peak = I1_sepic + dIl1 / 2\n",
    "\tIl2_peak = I2_sepic + dIl2 / 2\n",
    "\tprint(f\"Il1_peak: {Il1_peak} A, Il2_peak: {Il2_peak} A\")\n",
    "\n",
    "\t######## OUTPUT VOLTAGE RIPPLE #########\n",
    "\tprint(f\"\\r\\n#### OUTPUT VOLTAGE RIPPLE (ESR-DEPENDENT) ####\")\n",
    "\n",
    "\tdVout = ((I_rms_A / (1-D_sepic)) + dIl2 / 2) * ESR_cout\n",
    "\tprint(f\"dVout: {dVout} V\")\n",
    "\n",
    "\t######## SEPIC CAPACITOR SELECTION #########\n",
    "\tprint(f\"\\r\\n#### SEPIC CAPACITOR SELECTION ####\")\n",
    "\tI_sw_peak = I1_sepic + I_rms_A + (dIl1 + dIl2) / 2\n",
    "\tI_swrms = math.sqrt((I_sw_peak**2 - I_sw_peak*(dIl1 + dIl2) + (dIl1 + dIl2)**2 / 3)*D_sepic)\n",
    "\tprint(f\"I_SW_RMS: {I_swrms} A\")\n",
    "\tprint(f\"I_SW_PEAK: {I_sw_peak} A\")\n",
    "\n",
    "\tI_cap_rms = math.sqrt(I_swrms**2 + (Il1_peak**2-Il1_peak*dIl1+dIl1**2) * (1-D_sepic))\n",
    "\tV_cap_rms = Vin\n",
    "\tC_min = L1_ch * I_rms_A**2 / (Vin-Vfet_dsn)**2\n",
    "\n",
    "\tprint(f\"[C_coupling_minimum] {C_min*1e6} uF, I_cap_rms {I_cap_rms} A, V_max: {V_cap_rms} V\")\n",
    "\n",
    "\t######## INPUT CAPACITOR SELECTION #########\n",
    "\tprint(f\"\\r\\n#### INPUT CAPACITOR SELECTION ####\")\n",
    "\tI_cin_rms = (D_sepic / (2 * math.sqrt(3))) * ((Vin - Vfet_dsn) / (L1_ch * freq_sw))\n",
    "\tprint(f\"Input capacitor RMS current {I_cin_rms} A\")\n",
    "\n",
    "\n",
    "\t######## OUTPUT CAPACITOR SELECTION #########\n",
    "\tprint(f\"\\r\\n#### OUTPUT CAPACITOR SELECTION ####\")\n",
    "\tI_cout_rms = math.sqrt((I_sw_peak**2 - I_sw_peak * (dIl1 + dIl2) + ((dIl2+ dIl1)**2)/3.0) * (1-D_sepic) - I_rms_A**2)\n",
    "\tprint(f\"output capacitor RMS current: {I_cout_rms} A\")\n",
    "\n",
    "\n",
    "\t######## SLOPE COMPENSATION #######\n",
    "\tprint(f\"\\r\\n#### SLOPE COMPENSATION | SENSE RESISTOR SELECTION ####\")\n",
    "\tV_sense = 0.156 # Volt - FIXED current sense threshold voltage\n",
    "\tV_sl = 92e-3 # Internal compensation ramp voltage\n",
    "\tV_sl_ratio = 0.49\n",
    "\tR_sl = 1\n",
    "\tK_sl = 40e-6\n",
    "\tdV_sl = K_sl * R_sl\n",
    "\n",
    "\t### R_sen estimation (boost equations)\n",
    "\tR_sense = (V_sense - D_sepic * (V_sl + dV_sl)) / I_sw_peak # (eq. 48)\n",
    "\tprint(f\"R_sense: {R_sense} Ohm\")\n",
    "\tprint(f\"I_max: {V_sense / R_sense} A\")\n",
    "\t### Slope compensation\n",
    "\t# R_sl = ((R_sense * (Vout - 2*Vin)) / (2*freq_sw*L1_ch) - V_sl) / K_sl\n",
    "\tprint(f\"Slope compensation resistor: {R_sl}, Duty: {D_sepic}\")"
   ]
  },
  {
   "cell_type": "markdown",
   "id": "272d2447",
   "metadata": {},
   "source": [
    "## Setting output voltage\n",
    "- Don't forget to connect an output capacitor between feedback and ground pins\n",
    "\t- Reduces bandwidth\n",
    "\t- Reduces susceptibility to noise"
   ]
  },
  {
   "cell_type": "code",
   "execution_count": 9,
   "id": "6e6a1e8c",
   "metadata": {},
   "outputs": [
    {
     "name": "stdout",
     "output_type": "stream",
     "text": [
      "Resistors: 60.00 kOhm, 17.83 kOhm\n",
      "---- V = 5.5 ----\n",
      "5.5 r1/r2: 3.3650793650793647\n",
      "R2 values [ 0.14  0.15  0.17  0.2   0.24  0.3   0.36  0.45  0.53  0.59  0.65  0.71\n",
      "  0.8   0.89  0.98  1.07  1.16  1.4   1.48  1.52  1.66  1.84  2.02  2.23\n",
      "  2.44  2.7   2.97  3.57  3.86  4.46  5.94  6.54  7.13  8.02  8.92  9.81\n",
      " 11.59 13.97 15.16 16.64 20.21 22.29 24.37 29.72 44.58]\n",
      "R1 values [  1.58   1.72   1.88   2.29   2.76   3.37   4.04   5.05   6.06   6.73\n",
      "   7.4    8.08   9.09  10.1   11.1   12.11  13.12  15.82  16.79  17.16\n",
      "  18.84  20.86  22.88  25.24  27.59  30.62  33.65  40.38  43.75  50.48\n",
      "  67.3   74.03  80.76  90.86 100.95 111.05 131.24 158.16 171.62 188.44\n",
      " 228.83 252.38 275.94 336.51 504.76]\n",
      "Perfect r2 found: 2.7, r1: 9.085714285714285\n",
      "offset: 0.12%, vout: 5.506666666666667\n",
      "Power out: 0.002569777777777778\n"
     ]
    }
   ],
   "source": [
    "import numpy as np\n",
    "\n",
    "RF1 = 60e3 # 60 kOhms feedback in example\n",
    "RF2 = (1.26 * RF1) / (Vout - 1.26)\n",
    "\n",
    "print(f\"Resistors: {RF1*1e-3:.2f} kOhm, {RF2*1e-3:.2f} kOhm\")\n",
    "\n",
    "\n",
    "# (RF2 / (RF1+RF2)) * Vout = 1.26 V -> this is the equation we have to rework to RF2 / RF1\n",
    "# Vout / 1.26 = 1 + RF1 / RF2 \n",
    "# Vout / 1.26 - 1 = RF1 / RF2\n",
    "# RF2 = (1.26 V x RF1) / (Vout - 1.26 V)\n",
    "\n",
    "def get_resistor_ratio(v_out):\n",
    "\treturn ((v_out / 1.26) - 1)\n",
    "\n",
    "resistor_array = np.array([0.470, 0.51, 0.56, 0.68, 0.82, 1, 1.2, 1.5, 1.8, 2, 2.2, 2.4, 2.7, 3, 3.3, 3.6, 3.9, 4.7, 4.99, 5.1, 5.6, 6.2, \n",
    "\t\t\t\t\t\t6.8, 7.5, 8.2, 9.1, 10, 12, 13, 15, 20, 22, 24, 27, 30, 33, 39, 47, 51, 56, 68, 75, 82, 100, 150])\n",
    "v_target = 5.5\n",
    "RF1 = 9.1e3\n",
    "RF2 = 2.7e3\n",
    "\n",
    "######### DDR3L\n",
    "print(f\"---- V = {v_target} ----\")\n",
    "v_target_ratio = get_resistor_ratio(v_target)\n",
    "r2_target_arr = np.round(resistor_array / v_target_ratio, 2)\n",
    "r1_target_arr = np.round(resistor_array * v_target_ratio, 2)\n",
    "print(f\"{v_target} r1/r2: {v_target_ratio}\")\n",
    "print(f\"R2 values {r2_target_arr}\")\n",
    "print(f\"R1 values {r1_target_arr}\")\n",
    "\n",
    "for r1, r2 in zip(r1_target_arr, r2_target_arr):\n",
    "\tif (r1 in resistor_array):\n",
    "\t\tprint(f\"Perfect r1: {r1}, r2: {r1 / v_target_ratio}\")\n",
    "\tif (r2 in resistor_array):\n",
    "\t\tprint(f\"Perfect r2 found: {r2}, r1: {r2 * v_target_ratio}\")\n",
    "\n",
    "vout_actual =1.26*(1+RF1/RF2)\n",
    "print(f\"offset: {((vout_actual - v_target) / v_target) * 100:.2f}%, vout: {vout_actual}\")\n",
    "\n",
    "I_fb = vout_actual / (RF1+RF2)\n",
    "print(f\"Power out: {vout_actual*I_fb}\")"
   ]
  },
  {
   "cell_type": "markdown",
   "id": "2bf0658e",
   "metadata": {},
   "source": [
    "## Setting Current Limit"
   ]
  },
  {
   "cell_type": "code",
   "execution_count": 26,
   "id": "04576dbf",
   "metadata": {},
   "outputs": [
    {
     "name": "stdout",
     "output_type": "stream",
     "text": [
      "\n",
      "##################################################\n",
      "################### VIN == 5 #####################\n",
      "##################################################\n",
      "Right Half plane zero: 11.00kHz\n",
      "Cs-L2 Resonance: 20.55kHz\n",
      "Crossover frequency: 1.83kHz\n",
      "Gcs: 15.487284641299574\n",
      "Rc: 1.13kOhm\n",
      "Cc1: 306.5377866944416nF, Cc2: 8.826061272879485nF\n"
     ]
    }
   ],
   "source": [
    "\n",
    "#! >>> INSERT COUPLING CAPACITOR CHOICE HERE\n",
    "C_coupling_ch = 1e-6 # F\n",
    "D_sepic_max = 0.65\n",
    "Vin = 5\n",
    "Cin_ch = 100e-6\n",
    "Cout_ch = 100e-6\n",
    "#! <<< INSERT COUPLING CAPACITOR CHOICE HERE\n",
    "\n",
    "# LOAD POLE ESTIMATION\n",
    "print(f\"\\r\\n##################################################\")\n",
    "print(f\"################### VIN == {Vin} #####################\")\n",
    "print(f\"##################################################\")\n",
    "# RIGHT HALF PLANE ZERO\n",
    "f_RHPZ = (1 - D_sepic_max) ** 2 * Vout / (2 * math.pi * D_sepic_max * L2_ch * 0.5 * I_rms_A)\n",
    "print(f\"Right Half plane zero: {f_RHPZ*1e-3:.2f}kHz\")\n",
    "# RESONANT LC POLE \n",
    "f_R = 1 / (2*math.pi * math.sqrt(L2_ch * C_coupling_ch))\n",
    "print(f\"Cs-L2 Resonance: {f_R*1e-3:.2f}kHz\")\n",
    "f_crossover = min(f_R, f_RHPZ) / 6\n",
    "print(f\"Crossover frequency: {f_crossover*1e-3:.2f}kHz\")\n",
    "\n",
    "#### COMPENSATION NETWORK CHOICE\n",
    "# CHOICE OF RC\n",
    "Gcs = 1/R_sense # Current sense gain\n",
    "print(f\"Gcs: {Gcs}\")\n",
    "Gma = 800e-6 # Error Amplifier Transconductance\n",
    "Rc = (2 * math.pi * f_crossover * Cout_ch * Vout**2 * (1+D_sepic_max))\n",
    "Rc = Rc / (Gcs*Gma*1.26*Vin*D_sepic_max)\n",
    "print(f\"Rc: {Rc*1e-3:.2f}kOhm\")\n",
    "\n",
    "# CHOICE OF CC1 (1/4th crossover frequency)\n",
    "Cc1 = 4 / (2 * math.pi * f_crossover * Rc)\n",
    "Cc2 = Cout_ch * ESR_cout / Rc\n",
    "print(f\"Cc1: {Cc1*1e9}nF, Cc2: {Cc2*1e9}nF\")"
   ]
  },
  {
   "cell_type": "markdown",
   "id": "39a7dcb7",
   "metadata": {},
   "source": [
    "## Mosfet / Diode Selection"
   ]
  },
  {
   "cell_type": "markdown",
   "id": "bfc7f801",
   "metadata": {},
   "source": [
    "#### Using the AO3400A\n",
    "It seems to be better to select a MOSFET like AO3400A, since it has a much lower Vgs(th) and thus has a much larger range at which it can supply power to the processing-board.\n",
    "- Input voltage will be max 20 V\n",
    "- Output voltage will be max 9-10 V\n",
    "- Vgs will be max 7 V (limit is 12 V)\n",
    "\n",
    "**Stats:**\n",
    "- Vgs(th): 1-2 V\n",
    "- Id_max: 4-5 A\n",
    "- Pd: 1.4 W\n",
    "- Vgs: 12 V max\n",
    "- Vds_max: 30 V\n",
    "- Rdson: 30 mOhm\n",
    "\n",
    "#### Finding an LTSpice Model\n",
    "Use the IRLML6344PbF FET model for the SEPIC instead of the AO3400A.\n",
    "\n",
    "**Stats:**\n",
    "- Vgs(th): 0.5-1.1 V\n",
    "- Id_max: 7 A\n",
    "- Pd: 1.2 W\n",
    "- Vgs: 12 V max\n",
    "- Vds_max: 20 V\n",
    "- Rds_on: 30 mOhm"
   ]
  },
  {
   "cell_type": "code",
   "execution_count": 228,
   "id": "b43e97ca",
   "metadata": {},
   "outputs": [
    {
     "name": "stdout",
     "output_type": "stream",
     "text": [
      "V_sw_peak: 30.55\n"
     ]
    }
   ],
   "source": [
    "V_sw_peak = max(Vin_list) + Vout + V_diode\n",
    "print(f\"V_sw_peak: {V_sw_peak}\")"
   ]
  },
  {
   "cell_type": "markdown",
   "id": "daf0c150",
   "metadata": {},
   "source": [
    "# LTSpice Simulation\n",
    "![](sepic_driver_circuit.png)"
   ]
  },
  {
   "cell_type": "markdown",
   "id": "f6471cf6",
   "metadata": {},
   "source": [
    "## 20 V input\n",
    "![](sepic_fetdriver_20Vin.png)"
   ]
  },
  {
   "cell_type": "markdown",
   "id": "8249cdba",
   "metadata": {},
   "source": [
    "### Soft Start (0->4 ms)\n",
    "- Error-amplifier charges its soft-start capacitor.\n",
    "- Internal soft-start delay is 4 ms.\n",
    "\n",
    "### Steady State\n",
    "- Reaches the right voltage approximately"
   ]
  },
  {
   "cell_type": "markdown",
   "id": "9b6dba17",
   "metadata": {},
   "source": [
    "## 5 V input\n",
    "![](sepic_fetdriver_5Vin.png)"
   ]
  },
  {
   "cell_type": "markdown",
   "id": "9e89715a",
   "metadata": {},
   "source": [
    "We're clearly dealing with subharmonic oscillations here.\n",
    "Which leads us to 3 possible solutions\n",
    "- Add a resistor for slope compensation\n",
    "- Lower loop bandwidth\n",
    "\t- Change compensation circuit so controller won't run at this frequency\n",
    "- Increase inductance to decrease current ramp."
   ]
  },
  {
   "cell_type": "markdown",
   "id": "c429df72",
   "metadata": {},
   "source": []
  }
 ],
 "metadata": {
  "kernelspec": {
   "display_name": ".venv",
   "language": "python",
   "name": "python3"
  },
  "language_info": {
   "codemirror_mode": {
    "name": "ipython",
    "version": 3
   },
   "file_extension": ".py",
   "mimetype": "text/x-python",
   "name": "python",
   "nbconvert_exporter": "python",
   "pygments_lexer": "ipython3",
   "version": "3.12.3"
  }
 },
 "nbformat": 4,
 "nbformat_minor": 5
}
