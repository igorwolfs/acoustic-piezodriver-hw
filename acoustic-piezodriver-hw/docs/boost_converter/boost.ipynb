{
 "cells": [
  {
   "cell_type": "markdown",
   "id": "4e01f427",
   "metadata": {},
   "source": [
    "# Boost Switching regulator LM3478\n",
    "- Supply: 15 V\n",
    "- Output voltage: Between 20 and 40 V (theoretically up to 45 V)\n",
    "\t- Make the output voltage variable through some variable resistor (Manually / voltage controlled)\n",
    "\n",
    "## Switching architecture\n",
    "- Switching frequency: 100 kHz - 1 MHz\n",
    "- PWM, current mode control architecture\n",
    "- Only fits for low-side switching (no level shifting)\n",
    "\n",
    "## Other features\n",
    "- Thermal shutdown\n",
    "- Short-cicuit protection\n",
    "- Over-voltage protection\n",
    "- **Internal soft-start**"
   ]
  },
  {
   "cell_type": "markdown",
   "id": "bcd6ff15",
   "metadata": {},
   "source": [
    "# LTSpice Simulation\n",
    "## Issue with simulation\n",
    "- Vds gets to a max between 3 and 4 V (since Vcc is 3.3 V)\n",
    "  - Vgs(th) is 2-4 V\n",
    "  - It seems like the Vgs is simply somewhat too small for the fet to be in the linear conducting region\n",
    "\n",
    "## Current mode control\n",
    "### Operation\n",
    "- Peak current is sensed through the MOSFET over the external resistor R4.\n",
    "  - This forms a resistive divider with Rds_on and R4.\n",
    "  - This current is fed back into the ISEN-pin.\n",
    "\n",
    "\n",
    "1. Switching cycle start\n",
    "  - Oscillator sets RS-latch\n",
    "2. \n",
    "\n",
    "### Instability\n",
    "- Normally CCM is inherently unstable at a duty cycle of 50 % or more.\n",
    "  - So to reach a voltage of 40 volts we need a supply of at least 20 V"
   ]
  },
  {
   "cell_type": "markdown",
   "id": "1956709b",
   "metadata": {},
   "source": [
    "### Current-mode control\n"
   ]
  }
 ],
 "metadata": {
  "language_info": {
   "name": "python"
  }
 },
 "nbformat": 4,
 "nbformat_minor": 5
}
