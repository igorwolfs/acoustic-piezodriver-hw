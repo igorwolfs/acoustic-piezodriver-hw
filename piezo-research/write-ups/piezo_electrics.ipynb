{
 "cells": [
  {
   "cell_type": "markdown",
   "id": "6c4a6863",
   "metadata": {},
   "source": [
    "# Elastic wave-speeds"
   ]
  },
  {
   "cell_type": "code",
   "execution_count": 5,
   "id": "6375258e",
   "metadata": {},
   "outputs": [],
   "source": [
    "def calc_bulk_modulus(youngs_modulus=None, poisson_ratio=None, shear_modulus=None):\n",
    "\tif (shear_modulus != None):\n",
    "\t\treturn (youngs_modulus * shear_modulus / (9*shear_modulus - 3 * youngs_modulus))\n",
    "\telif (poisson_ratio != None):\n",
    "\t\treturn (youngs_modulus / (2*(1+poisson_ratio)))\n",
    "\telse:\n",
    "\t\tprint(\"ERROR\")"
   ]
  },
  {
   "cell_type": "code",
   "execution_count": 6,
   "id": "0eabbebe",
   "metadata": {},
   "outputs": [
    {
     "ename": "ModuleNotFoundError",
     "evalue": "No module named 'mq_secrets'",
     "output_type": "error",
     "traceback": [
      "\u001b[31m---------------------------------------------------------------------------\u001b[39m",
      "\u001b[31mModuleNotFoundError\u001b[39m                       Traceback (most recent call last)",
      "\u001b[36mCell\u001b[39m\u001b[36m \u001b[39m\u001b[32mIn[6]\u001b[39m\u001b[32m, line 13\u001b[39m\n\u001b[32m     11\u001b[39m \u001b[38;5;28;01mfrom\u001b[39;00m\u001b[38;5;250m \u001b[39m\u001b[34;01mmp_api\u001b[39;00m\u001b[34;01m.\u001b[39;00m\u001b[34;01mclient\u001b[39;00m\u001b[38;5;250m \u001b[39m\u001b[38;5;28;01mimport\u001b[39;00m MPRester\n\u001b[32m     12\u001b[39m \u001b[38;5;28;01mimport\u001b[39;00m\u001b[38;5;250m \u001b[39m\u001b[34;01mnumpy\u001b[39;00m\u001b[38;5;250m \u001b[39m\u001b[38;5;28;01mas\u001b[39;00m\u001b[38;5;250m \u001b[39m\u001b[34;01mnp\u001b[39;00m\n\u001b[32m---> \u001b[39m\u001b[32m13\u001b[39m \u001b[38;5;28;01mfrom\u001b[39;00m\u001b[38;5;250m \u001b[39m\u001b[34;01mmq_secrets\u001b[39;00m\u001b[38;5;250m \u001b[39m\u001b[38;5;28;01mimport\u001b[39;00m API_KEY\n\u001b[32m     14\u001b[39m \u001b[38;5;66;03m# Replace with your actual API key\u001b[39;00m\n\u001b[32m     15\u001b[39m \u001b[38;5;28;01mfrom\u001b[39;00m\u001b[38;5;250m \u001b[39m\u001b[34;01mpymatgen\u001b[39;00m\u001b[34;01m.\u001b[39;00m\u001b[34;01mext\u001b[39;00m\u001b[34;01m.\u001b[39;00m\u001b[34;01mmatproj\u001b[39;00m\u001b[38;5;250m \u001b[39m\u001b[38;5;28;01mimport\u001b[39;00m MPRester\n",
      "\u001b[31mModuleNotFoundError\u001b[39m: No module named 'mq_secrets'"
     ]
    }
   ],
   "source": [
    "# Container for fetched data\n",
    "materials_data = {}\n",
    "\n",
    "##########################################################################################\n",
    "######################## The Materials Project imports ###################################\n",
    "##########################################################################################\n",
    "import math\n",
    "import sys\n",
    "import os\n",
    "sys.path.insert(0, os.path.abspath(\"\") + '/ae_secrets')\n",
    "from mp_api.client import MPRester\n",
    "import numpy as np\n",
    "from mq_secrets import API_KEY\n",
    "# Replace with your actual API key\n",
    "from pymatgen.ext.matproj import MPRester\n",
    "from pprint import pprint\n",
    "\n",
    "#! Materials\n",
    "categories = {\n",
    "    \"Metals\": {\n",
    "        \"Copper\": \"mp-30\", \n",
    "        \"Tin\": \"mp-117\",\n",
    "        \"Iron\": \"mp-13\"\n",
    "\t}\n",
    "}\n",
    "\n",
    "\n",
    "# Fetch data using the mp-api client’s summary.search endpoint\n",
    "with MPRester(API_KEY) as mpr:\n",
    "\t# Get PCB materials\n",
    "\tmlist = list(categories[\"Metals\"].values())\n",
    "\tmkeys = list(categories[\"Metals\"].keys())\n",
    "\tdocs = mpr.materials.summary.search(material_ids=mlist)\n",
    "\tfor i, d in enumerate(docs):\n",
    "\t\trho = d['density']\n",
    "\t\tK = d['bulk_modulus']['vrh'] # GPa\n",
    "\t\tG = d['shear_modulus']['vrh'] # GPa\n",
    "\n",
    "\t\t## convert GPa→Pa, g/cm³→kg/m³ for SI:\n",
    "\t\trho_si = rho * 1e3  \n",
    "\t\tK_si = K * 1e9\n",
    "\t\tG_si = G * 1e9\n",
    "\t\tmaterials_data[mkeys[i]] = {}\n",
    "\t\tmaterials_data[mkeys[i]]['rho_si'] = rho_si\n",
    "\t\tmaterials_data[mkeys[i]]['K_si'] = K_si\n",
    "\t\tmaterials_data[mkeys[i]]['G_si'] = G_si\n",
    "\n",
    "##########################################################################################\n",
    "############################## Manual findings ###########################################\n",
    "##########################################################################################\n",
    "\n",
    "# FR-4 (glass‐reinforced epoxy laminate) – typical engineering averages, https://www.cctprecision.com/materials/g10/?, verify with: https://www.researchgate.net/figure/ariation-in-velocities-of-shear-wave-in-the-direction-of-h-30-with-x-axis-at-different_fig3_220564972\n",
    "fr4_data = {\n",
    "\t'rho_si': 1.9e3,  # ~1.9 g/cm³ → 1900 kg/m³\n",
    "    'G_si': 8.0e9,    # G ≈ 8 GPa (typical shear modulus of FR-4) \n",
    "    'K_si': 30.0e9       # ν ≈ 0.14 for FR-4\n",
    "}\n",
    "materials_data['FR4'] = fr4_data\n",
    "\n",
    "\n",
    "# Aluminum\n",
    "aluminum_data = {'rho_si': ((2.57+2.95)/2)*1.0e3, 'K_si': ((62+106) / 2)*1.0e9, 'G_si': ((25+34) / 2) * 1.0e9}\n",
    "materials_data['aluminum'] = aluminum_data\n",
    "\n",
    "pla_data = {'rho_si': 1.25e3, 'K_si': calc_bulk_modulus(youngs_modulus=3.5e9, shear_modulus=2.4e9), 'G_si': 2.4e9}\n",
    "materials_data['pla'] = pla_data\n",
    "# https://designerdata.nl/materials/plastics/thermo-plastics/acrylonitril-butadieen-styreen-general-purpose\n",
    "abs_data = {'rho_si': 1.11e3, 'K_si': calc_bulk_modulus(youngs_modulus=2.2e9, shear_modulus=0.875e9), 'G_si': 2.4e9}\n",
    "materials_data['abs'] = abs_data\n",
    "# https://pmc.ncbi.nlm.nih.gov/articles/PMC11013115/#:~:text=At%2040%20%C2%B0C%2C%20the,transition%20temperature%20of%20the%20specimen.\n",
    "resin_data = {'rho_si': 1.11e3, 'K_si': 4e9, 'G_si': 1.2e9}\n",
    "resin_data['resin'] = resin_data\n",
    "\n",
    "##########################################################################################\n",
    "############################## Data Computation ##########################################\n",
    "##########################################################################################\n",
    "\n",
    "\n",
    "for key, mdict in materials_data.items():\n",
    "\t\tK_si = mdict['K_si']\n",
    "\t\tG_si = mdict['G_si']\n",
    "\t\trho_si = mdict['rho_si']\n",
    "\t\t## longitudinal speed: sqrt((K + 4/3 G)/ρ)\n",
    "\t\tv_l = math.sqrt((K_si + 4/3*G_si)/rho_si)\n",
    "\t\t## shear speed: sqrt(G/ρ)\n",
    "\t\tv_s = math.sqrt(G_si/rho_si)\n",
    "\t\tmdict['v_l'] = v_l\n",
    "\t\tmdict['v_s'] = v_s\n",
    "pprint(materials_data)"
   ]
  },
  {
   "cell_type": "code",
   "execution_count": null,
   "id": "20cd474e",
   "metadata": {},
   "outputs": [],
   "source": [
    "# Material Properties\n",
    "import numpy as np\n",
    "import matplotlib.pyplot as plt\n",
    "\n",
    "# Frequencies from 100 kHz to 50 MHz\n",
    "frequencies = np.linspace(1e5, 5e6, 500)  # Hz :contentReference[oaicite:2]{index=2}\n",
    "\n",
    "# Wavelength = speed / frequency\n",
    "def wavelength(speed, freq):\n",
    "    return speed / freq\n",
    "\n",
    "# Plot for each material\n",
    "for material, speeds in materials_data.items():\n",
    "    lam_l = wavelength(speeds['v_l'], frequencies)\n",
    "    lam_s = wavelength(speeds['v_s'], frequencies)\n",
    "\n",
    "    plt.figure(figsize=(8, 5))\n",
    "    plt.plot(frequencies, lam_l, label='Longitudinal λ = vₗ/f')\n",
    "    plt.plot(frequencies, lam_s, label='Shear λ = vₛ/f')\n",
    "    plt.title(f'Wavelength vs Frequency for {material.capitalize()}')\n",
    "    plt.xlabel('Frequency (Hz)')\n",
    "    plt.ylabel('Wavelength (m)')\n",
    "    plt.legend()\n",
    "    plt.grid(True)\n",
    "    plt.tight_layout()\n",
    "    plt.show()"
   ]
  },
  {
   "cell_type": "code",
   "execution_count": null,
   "id": "11fa7368",
   "metadata": {},
   "outputs": [],
   "source": [
    "# Frequency range: 100 kHz to 50 MHz\n",
    "frequencies = np.linspace(500e3, 2e6, 500)  # in Hz\n",
    "wavelengths_avg_dict = {}\n",
    "# Plot average wavelength for each material\n",
    "plt.figure(figsize=(10, 6))\n",
    "for idx, (material, speeds) in enumerate(materials_data.items()):\n",
    "    avg_speed = (speeds['v_l'] + speeds['v_s']) / 2\n",
    "    wavelengths_avg = avg_speed / frequencies\n",
    "    wavelengths_avg_dict[material.capitalize()] = wavelengths_avg\n",
    "    plt.plot(frequencies, wavelengths_avg, label=material.capitalize())\n",
    "    \n",
    "plt.title('Average Wavelength vs Frequency for All Materials')\n",
    "plt.xlabel('Frequency (Hz)')\n",
    "plt.ylabel('Average Wavelength (m)')\n",
    "plt.legend(title='Material')\n",
    "plt.grid(True)\n",
    "plt.tight_layout()\n",
    "plt.show()"
   ]
  },
  {
   "cell_type": "code",
   "execution_count": null,
   "id": "ff73852e",
   "metadata": {},
   "outputs": [],
   "source": [
    "\n",
    "#! Wave decay\n",
    "'''\n",
    "Goal is to measure surface (Raleigh) wave propagation to measure basic properties\n",
    "- 2 piezo-electrics are often set a few wavelengths apart.\n",
    "- This makes sure you're in the far-field (beyond the Ryleigh distance)\n",
    "\n",
    "Pick the measurement distance at about 2-3 times the near-field distance\n",
    "'''\n",
    "\n",
    "# Assume transducer diameter of about 1.6 cm (UB161M7)\n",
    "D_fp = 1.6e-2\n",
    "D = np.ones_like(frequencies) * D_fp\n",
    "# Assume ultrasound / piezoelectric frequency between 500 kHz and 2 MHz\n",
    "f_piezo = frequencies\n",
    "print(f\"piezo-frequencies: {f_piezo.shape}\")\n",
    "\n",
    "# Get the \n",
    "plt.figure(figsize=(10, 6))\n",
    "for idx, (material, speeds) in enumerate(materials_data.items()):\n",
    "\tN = (D**2 / (4*wavelengths_avg_dict[material.capitalize()]))*1e3\n",
    "\tplt.plot(frequencies, N, label=material.capitalize())\n",
    "    \n",
    "plt.title('Near-field length')\n",
    "plt.xlabel('Frequency (Hz)')\n",
    "plt.ylabel('Near-field distance (mm)')\n",
    "plt.legend(title='Material')\n",
    "plt.grid(True)\n",
    "plt.tight_layout()\n",
    "plt.show()\n"
   ]
  },
  {
   "cell_type": "markdown",
   "id": "b9d43515",
   "metadata": {},
   "source": [
    "### Conclusion\n",
    "- The higher we go in frequency, the more the absolute difference in wavelength decreases.\n",
    "- The ratio of the wavelengths stays the same.\n",
    "- Pick a piezo-element of about 25 mm diameter\n",
    "- Design the transmitter / reciever circuit for frequencies between 500 kHz and 2 MHz\n"
   ]
  },
  {
   "cell_type": "markdown",
   "id": "4c5c2d0f",
   "metadata": {},
   "source": [
    "# Main choice: UB161M7-piezo-electric"
   ]
  },
  {
   "cell_type": "markdown",
   "id": "204ab3f7",
   "metadata": {},
   "source": [
    "## Electric model\n",
    "- frequency at resonance: 1.70 MHz\n",
    "- resistance at resonance: <= 3.0 Ohms\n",
    "### Static capacitance\n",
    "- 1.3 nF at 1 kHz"
   ]
  },
  {
   "cell_type": "code",
   "execution_count": 8,
   "id": "307fec0d",
   "metadata": {},
   "outputs": [
    {
     "name": "stdout",
     "output_type": "stream",
     "text": [
      "c_rlc:2.6325000000000005e-10, l_rlc: 3.3294618323109704e-05, r_rlc:2, Q: 177.81681815752785\n"
     ]
    }
   ],
   "source": [
    "import math\n",
    "\n",
    "f_res = 1.7e6\n",
    "r_res = 2\n",
    "c_0 = 1.3e-9\n",
    "k_radial_coupling = 0.45\n",
    "c_rlc = c_0 * k_radial_coupling**2\n",
    "l_rlc = 1 / (c_rlc * (2*math.pi*f_res)**2)\n",
    "\n",
    "Q = (1/r_res) * math.sqrt(l_rlc / c_rlc)\n",
    "print(f\"c_rlc:{c_rlc}, l_rlc: {l_rlc}, r_rlc:{r_res}, Q: {Q}\")"
   ]
  },
  {
   "cell_type": "markdown",
   "id": "c1bcc868",
   "metadata": {},
   "source": [
    "### Checking out a simulation of the BVD-model\n",
    "\n",
    "Transfer function:\n",
    "$$\n",
    "Z(s) = \\frac{1}{Y(s)} = \\frac{1}{sC_0 + \\frac{1 + R_m C_m s + L_m C_m s^2}{sC_m}}\n",
    "$$"
   ]
  },
  {
   "cell_type": "markdown",
   "id": "14391a19",
   "metadata": {},
   "source": [
    "- At low frequencies: Frequency response is mostly determined by $sC_{0}$\n",
    "\t- $sC_{0}$ is small (order 1e-9), and increases with increasing frequency\n",
    "\t- $\\frac{1 + R_m C_m s + L_m C_m s^2}{sC_m}$: series branch has a capacitor with a lower capacitance with factor 10.\n",
    "\t\t- $\\frac{1}{sC_m}$ is large (order 1e10), and decreases with increasing frequency.\n",
    "\t\t- $L_ms$ is small (order 1e-5), and increases with increasing frequency.\n",
    "- At resonance frequency: \n",
    "\t- The fraction reduces to: $R_m$ and because $\\frac{1}{sC_0} > R_m$, the impedance becomes equal to $\\frac{1}{sC_0+1/R_m}$ with $sC_{0} < 1/R_{m}$\n",
    "\t\t- So ignoring the capacitance the impedance at resonance is approximately able to $R_{m}$"
   ]
  },
  {
   "cell_type": "markdown",
   "id": "365e8223",
   "metadata": {},
   "source": [
    "<img src=\"images/BVD_v1.png\" width=\"1400\" height=\"800\" />"
   ]
  },
  {
   "cell_type": "code",
   "execution_count": null,
   "id": "2955ffcd",
   "metadata": {},
   "outputs": [],
   "source": []
  },
  {
   "cell_type": "markdown",
   "id": "5fb30ef8",
   "metadata": {},
   "source": [
    "## Mechanical Matching"
   ]
  },
  {
   "cell_type": "code",
   "execution_count": null,
   "id": "815693b0",
   "metadata": {},
   "outputs": [],
   "source": []
  },
  {
   "cell_type": "markdown",
   "id": "af9c3acc",
   "metadata": {},
   "source": []
  }
 ],
 "metadata": {
  "kernelspec": {
   "display_name": ".venv",
   "language": "python",
   "name": "python3"
  },
  "language_info": {
   "codemirror_mode": {
    "name": "ipython",
    "version": 3
   },
   "file_extension": ".py",
   "mimetype": "text/x-python",
   "name": "python",
   "nbconvert_exporter": "python",
   "pygments_lexer": "ipython3",
   "version": "3.12.3"
  }
 },
 "nbformat": 4,
 "nbformat_minor": 5
}
