{
 "cells": [
  {
   "cell_type": "markdown",
   "id": "a3a5f238",
   "metadata": {},
   "source": [
    "# Sonar"
   ]
  },
  {
   "cell_type": "markdown",
   "id": "7c666361",
   "metadata": {},
   "source": [
    "## Beamforming\n",
    "### Discrete piezoelectric array\n",
    "Beamforming is usually done with multiple small piezoelectric elements. Each element is driven separately from the other with a controlled time-delay.\n",
    "\n",
    "### Element type / Geometry\n",
    "- Disc / Stack: used for 100 kHz - 1 MHz\n",
    "- Cymbal transducers\n",
    "- 1-3 composites\n",
    "\n",
    "### Spatial arrangements\n",
    "- 1D / 2D with linear half wavelength spacing between each other.\n",
    "- Cylindrical / Ring arrays for full-azimuth coverage."
   ]
  },
  {
   "cell_type": "code",
   "execution_count": null,
   "id": "d1136df1",
   "metadata": {
    "vscode": {
     "languageId": "plaintext"
    }
   },
   "outputs": [],
   "source": []
  }
 ],
 "metadata": {
  "language_info": {
   "name": "python"
  }
 },
 "nbformat": 4,
 "nbformat_minor": 5
}
