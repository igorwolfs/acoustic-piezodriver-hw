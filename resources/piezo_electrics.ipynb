{
 "cells": [
  {
   "cell_type": "markdown",
   "id": "35206265",
   "metadata": {},
   "source": [
    "# Piezo Electrics\n",
    "## PZT\n",
    "Most Piezo-electrics are ceramics, like PZT (lead Zirconate Titanate). This is the de-facto industry standard.\n",
    "- High efficiency of converting mechanical into electrical signal (little heat conversion)\n",
    "- Tunable properties (can design frequency-dependent ones)\n",
    "\n",
    "### Types of PZT\n",
    "- Hard PZT\n",
    "\t- PZT-4, PZT-8, which is used for high power, high frequency AE sensors.\n",
    "- Soft PZT\n",
    "\t- PZT-5, higher sensitivy but less stable at high power over time. (so less common in AE sensors)\n",
    "\n",
    "### PZT Geomtries\n",
    "#### Discs\n",
    "- Electrodes: 2-sides\n",
    "- Resonance: diameter-to-thickness ratio.\n",
    "- Applications: Ultrasound, AE-sensors, sonar\n",
    "\n",
    "#### Rings (Washers)\n",
    "- Electrodes: inner / outer\n",
    "- Resonance: diameter-to-thickness ratio.\n",
    "- Applications: Actuators for linear motion (radial vibrations)\n",
    "\n",
    "#### Tubes\n",
    "- Electrodes: \n",
    "- Resonance:\n",
    "- Applications: flow / level meters, small positioning\n",
    "\n",
    "\n",
    "#### Patches\n",
    "- Applications: EMI-based damage detection, Guided wave SHM (ultrasonic testing)\n",
    "\n",
    "## Suppliers\n",
    "- PI Ceramic, APC international, CTS Corp, Morgan advanced materials, Sparkler Ceramics Ceramics\n",
    "\n",
    "## Resonant Frequencies\n",
    "Each of these PZT's usually have a specific resonant-frequency with high Q-factor (resonance peak).\n",
    "\n",
    "### Broadening frequency sensitivity\n",
    "There are a 3 main things (mechanically) that can be done to broaden the frequency range:\n",
    "- Intentional damping of the resonance, lowering the Q-factor in order to broaden the frequency sensitivity around the resonance peak.\n",
    "- Mechanically redesigning the sensor housing and couplant layers to\n",
    "\t- Spread the frequency response.\n",
    "\t- Minimize reflections / resonances in the sensor body.\n",
    "\t- Flatten the amplitude curve across a wider frequency band.\n",
    "- Using multiple piezo-elements:\n",
    "\t- Resonating at different resonant frequencies.\n",
    "\t- Averaging out geometrically over a wider area.\n",
    "\n",
    "Another option is to compensate electronically for the loss in gain, although that can only be done to a certain extent."
   ]
  },
  {
   "cell_type": "markdown",
   "id": "594afb99",
   "metadata": {},
   "source": [
    "## Piezo-elements for material characterization\n",
    "\n",
    "The resonance frequency of the piezo--electric determines which resolution the acoustic wave has in the material.\n",
    "\n",
    "$\\lambda = \\frac{v}{f}$\n",
    "\n",
    "$$"
   ]
  },
  {
   "cell_type": "code",
   "execution_count": null,
   "id": "d6759615",
   "metadata": {
    "vscode": {
     "languageId": "plaintext"
    }
   },
   "outputs": [],
   "source": []
  },
  {
   "cell_type": "markdown",
   "id": "af59c2cc",
   "metadata": {},
   "source": [
    "# Links\n",
    "- PZT-8: https://de.aliexpress.com/item/1005008105542320.html?spm=a2g0o.productlist.main.16.2001A3zfA3zfma&algo_pvid=8f9e45dd-25bc-4688-8571-f212cbe682ef&algo_exp_id=8f9e45dd-25bc-4688-8571-f212cbe682ef-15&pdp_ext_f=%7B%22order%22%3A%22-1%22%2C%22eval%22%3A%221%22%7D&pdp_npi=4%40dis%21EUR%2123.57%2122.39%21%21%21190.85%21181.29%21%402103956a17450027423106406e4cf4%2112000043789602723%21sea%21DE%213638632815%21X&curPageLogUid=UM1KEZc7mbQo&utparam-url=scene%3Asearch%7Cquery_from%3A&_gl=1*wnvjw0*_gcl_aw*R0NMLjE3NDQ3MzM5OTIuQ2owS0NRandoX2lfQmhDekFSSXNBTmltZW9FNWZud0p2X29GeUpCZ0tSdVJJeW9NY3dVWEQ1ZGx4S19PTnZpY052M25jMlo2SFIwSWVsUWFBaVlBRUFMd193Y0I.*_gcl_dc*R0NMLjE3NDQ3MzM5OTIuQ2owS0NRandoX2lfQmhDekFSSXNBTmltZW9FNWZud0p2X29GeUpCZ0tSdVJJeW9NY3dVWEQ1ZGx4S19PTnZpY052M25jMlo2SFIwSWVsUWFBaVlBRUFMd193Y0I.*_gcl_au*OTYyMTQ3NzY2LjE3NDM1MDI5NjU.*_ga*MjA3NjAzOTYyNS4xNzM1NDc3NDg3*_ga_VED1YSGNC7*MTc0NTAwMjc0Ni45Mi4xLjE3NDUwMDM0NTAuNjAuMC4w\n",
    "- PZT-4: https://de.aliexpress.com/item/1005004698600121.html?spm=a2g0o.detail.pcDetailBottomMoreOtherSeller.3.2975NBR6NBR62j&gps-id=pcDetailBottomMoreOtherSeller&scm=1007.40050.354490.0&scm_id=1007.40050.354490.0&scm-url=1007.40050.354490.0&pvid=928646fa-e4d6-44f7-a591-569f35610be7&_t=gps-id:pcDetailBottomMoreOtherSeller,scm-url:1007.40050.354490.0,pvid:928646fa-e4d6-44f7-a591-569f35610be7,tpp_buckets:668%232846%238107%231934&isseo=y&pdp_ext_f=%7B%22order%22%3A%228%22%2C%22eval%22%3A%221%22%2C%22sceneId%22%3A%2230050%22%7D&pdp_npi=4%40dis%21EUR%2112.11%2110.29%21%21%2113.45%2111.43%21%402103867617450028078698938e5cb7%2112000030141699911%21rec%21DE%213638632815%21X&utparam-url=scene%3ApcDetailBottomMoreOtherSeller%7Cquery_from%3A"
   ]
  }
 ],
 "metadata": {
  "language_info": {
   "name": "python"
  }
 },
 "nbformat": 4,
 "nbformat_minor": 5
}
