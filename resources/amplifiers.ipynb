{
 "cells": [
  {
   "cell_type": "markdown",
   "id": "03f98145",
   "metadata": {},
   "source": [
    "\n",
    "# Amplifiers"
   ]
  },
  {
   "cell_type": "markdown",
   "id": "68d259bd",
   "metadata": {},
   "source": [
    "## OPAMPS\n",
    "Roughly 3 classes\n",
    "- General-purpose (GBW: 1 MHz - 20 MHz)\n",
    "- High-speed (GBW: 20 MHz - 200 MHz)\n",
    "- Ultra-high speed (GBW: > 200 MHz)"
   ]
  },
  {
   "cell_type": "markdown",
   "id": "8bbb4afc",
   "metadata": {},
   "source": [
    "# Sources:\n",
    "- https://www.ti.com/lit/an/snoa390b/snoa390b.pdf"
   ]
  },
  {
   "cell_type": "markdown",
   "id": "7505808a",
   "metadata": {},
   "source": []
  }
 ],
 "metadata": {
  "language_info": {
   "name": "python"
  }
 },
 "nbformat": 4,
 "nbformat_minor": 5
}
