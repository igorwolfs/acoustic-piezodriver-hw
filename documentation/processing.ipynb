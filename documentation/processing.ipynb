{
 "cells": [
  {
   "cell_type": "markdown",
   "id": "ca2e5862",
   "metadata": {},
   "source": [
    "# MCU / FPGA"
   ]
  },
  {
   "cell_type": "markdown",
   "id": "788ee914",
   "metadata": {},
   "source": [
    "## Processing Requirements \n",
    "Processing required on-chip in different categories\n",
    "### DSP\n",
    "- FIR / CIC filters (anti-aliasing, bandpass, decimation)\n",
    "- Polyphase filterbanks / decimation\n",
    "- Hilbert transforms / envelope detection\n",
    "### Real-Time correlation, peak-picking\n",
    "- Correlate incoming waveform with transmitted waveform (sliding window multiply / accumulate)\n",
    "\t- So for this you'd need multiplication units\n",
    "- Sub-sample interpolation for time-stamp (fitting a parabola around the correlation peak)\n",
    "### Deterministic Triggering / Time-Samping\n",
    "- Hardware time-stamping (latch a counter as soon as the signal is sent - No OS jitter here)\n",
    "- Multi-channel synchronization (not valid here since only a single channel is present)\n",
    "### On-the-fly Spectral / Distortion Analysis\n",
    "- Streaming FFT: continuously transferring data into spectral bins in parallel with everything else\n",
    "- Spectral windowing / harmonic tracking (cascade windowing FIRs, FFT and FIR / IIR trackers to follow distortion in parallel on spectral bins)"
   ]
  },
  {
   "cell_type": "markdown",
   "id": "844ed423",
   "metadata": {},
   "source": [
    "## STM32\n",
    "- Needs an external ADC anyways, internal ADC's never go above 10 MHz\n",
    "- Needs a high clock speed to clock the 20 MHz data-rate with the IO-pins\n",
    "\t- So would require clock speeds > 100 MHz which increases the cost\n",
    "\t- Even with clock speeds > 100 MHz it won't be able to do complex calculations in parallel"
   ]
  },
  {
   "cell_type": "markdown",
   "id": "d112bc03",
   "metadata": {},
   "source": [
    "## RP2040\n",
    "- Clock speeds up to 200 MHz\n",
    "- Fast enough for data acquisition and passing on however\n",
    "\t- Not enough speed for data-processing"
   ]
  },
  {
   "cell_type": "markdown",
   "id": "f6c165d1",
   "metadata": {},
   "source": [
    "## FPGA\n",
    "- Number of LUT's required\n",
    "- Number of multiplier elements required\n",
    "- Number of pins required\n",
    "- Peripherals required (external + SRAM + flash communication)\n",
    "- Clock-speed required\n",
    "\t- ()"
   ]
  },
  {
   "cell_type": "markdown",
   "id": "ad031fbf",
   "metadata": {},
   "source": [
    "# Memory\n",
    "## RAM"
   ]
  },
  {
   "cell_type": "markdown",
   "id": "9ba8ee32",
   "metadata": {},
   "source": [
    "### Asynchronous SRAM Memory\n",
    "SRAM: slower (100 MHz read/write) and lower cost\n",
    "- Can only take in a few ms of data (kB up to a fw Mb)\n",
    "- Easier to layout\n",
    "\n",
    "NOTE: my FPGA will probably max out at a clock speed of about 200-300 MHz. (example when using Lattice FPGA's)"
   ]
  },
  {
   "cell_type": "markdown",
   "id": "8f2b014f",
   "metadata": {},
   "source": [
    "### DDR-ram\n",
    "- Faster, smaller FIFO's"
   ]
  },
  {
   "cell_type": "markdown",
   "id": "21def474",
   "metadata": {},
   "source": [
    "## FLASH\n",
    "### SPI-NOR Flash\n"
   ]
  },
  {
   "cell_type": "markdown",
   "id": "914901ed",
   "metadata": {},
   "source": []
  }
 ],
 "metadata": {
  "language_info": {
   "name": "python"
  }
 },
 "nbformat": 4,
 "nbformat_minor": 5
}
