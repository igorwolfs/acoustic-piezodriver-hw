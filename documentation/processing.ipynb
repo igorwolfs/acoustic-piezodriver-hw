{
 "cells": [
  {
   "cell_type": "markdown",
   "id": "ca2e5862",
   "metadata": {},
   "source": [
    "# MCU / FPGA"
   ]
  },
  {
   "cell_type": "markdown",
   "id": "788ee914",
   "metadata": {},
   "source": [
    "## Processing\n",
    "Processing required on-chip in different categories\n",
    "### DSP\n",
    "- FIR / CIC filters (anti-aliasing, bandpass, decimation)\n",
    "- Polyphase filterbanks / decimation\n",
    "- Hilbert transforms / envelope detection\n",
    "### Real-Time correlation, peak-picking\n",
    "- Correlate incoming waveform with transmitted waveform (sliding window multiply / accumulate)\n",
    "\t- So for this you'd need multiplication units\n",
    "- Sub-sample interpolation for time-stamp (fitting a parabola around the correlation peak)\n",
    "### Deterministic Triggering / Time-Samping\n",
    "- Hardware time-stamping (latch a counter as soon as the signal is sent - No OS jitter here)\n",
    "- Multi-channel synchronization (not valid here since only a single channel is present)\n",
    "### On-the-fly Spectral / Distortion Analysis\n",
    "- Streaming FFT: continuously transferring data into spectral bins in parallel with everything else\n",
    "- Spectral windowing / harmonic tracking (cascade windowing FIRs, FFT and FIR / IIR trackers to follow distortion in parallel on spectral bins)"
   ]
  },
  {
   "cell_type": "markdown",
   "id": "844ed423",
   "metadata": {},
   "source": [
    "## STM32\n",
    "- Needs an external ADC anyways, internal ADC's never go above 10 MHz\n",
    "- Needs a high clock speed to clock the 20 MHz data-rate with the IO-pins\n",
    "\t- So would require clock speeds > 100 MHz which increases the cost\n",
    "\t- Even with clock speeds > 100 MHz it won't be able to do complex calculations in parallel"
   ]
  },
  {
   "cell_type": "markdown",
   "id": "d112bc03",
   "metadata": {},
   "source": [
    "## RP2040\n",
    "- Clock speeds up to 200 MHz\n",
    "- Fast enough for data acquisition and passing on however\n",
    "\t- Not enough speed for data-processing"
   ]
  },
  {
   "cell_type": "markdown",
   "id": "ad031fbf",
   "metadata": {},
   "source": []
  }
 ],
 "metadata": {
  "language_info": {
   "name": "python"
  }
 },
 "nbformat": 4,
 "nbformat_minor": 5
}
