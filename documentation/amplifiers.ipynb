{
 "cells": [
  {
   "cell_type": "markdown",
   "id": "03f98145",
   "metadata": {},
   "source": [
    "\n",
    "# Amplifiers"
   ]
  },
  {
   "cell_type": "markdown",
   "id": "5f4c0098",
   "metadata": {},
   "source": [
    "## Piezo power supply\n",
    "In order to supply maximum power for the piezo along the resonance point, we need\n",
    "- A square-wave generator (stm32)\n",
    "- A low-pass filter (optional)\n",
    "- A FET\n",
    "- A FET driver (to drive 2.5 amps to the piezo-element at resonance)\n",
    "\n",
    "### Solution 1 \n",
    "- Using a bldc driver board / buy some random inverter board, and drive the piezo-electric using a voltage source.\n",
    "\t- Make sure to check the voltage wave coming from the inverter, to check if a band-pass filter is needed.\n",
    "- Switching frequency:\n",
    "\t- Dead time is 520 ns, so 1 us is about 1 MHz which is definitely too slow for our purpose.\n",
    "- Most of the regular stuff doesn't switch at MHz frequencies\n",
    "\n",
    "#### Conclusion\n",
    "- Too slow\n",
    "\n",
    "### Solution 2: single fet drive\n",
    "- Use a UCC2751x OR a UCC27611 as a FET driver\n",
    "\t- the UCC27611 \n",
    "\t\t- has better rise / fall times and propagation delays\n",
    "\t\t- It also has built-in circuitry for level shifting\n",
    "\t\t- Is really expensive\n",
    "\t- the UCC27611\n",
    "\t\t- Doesn't have level shifting (but we also don't need it)\n",
    "\t- fall + rise + dead times here are (td1+tr+td2+tf) * 10 = 10+20+20 = 50 ns, our switching period needs to be (1/2MHz) / 2 = 250 ns [since each side of the piezo-electric needs switch every 250 ns]. 250 ns / 50 = 5 times the rise + fall time. \n",
    "\t\t- Given that we really need a sine-wave, and we want to filter out the higher frequency components anyways, it's acceptable.\n",
    "\n",
    "#### Conclusion\n",
    "- We need a bidirection / AC drive\n",
    "\n",
    "### Solution 3\n",
    "- Use a 4 x 1EDN8550BXTSA1 to form a full-bridge AC-drive."
   ]
  },
  {
   "cell_type": "markdown",
   "id": "8bc9c8f5",
   "metadata": {},
   "source": []
  },
  {
   "cell_type": "markdown",
   "id": "68d259bd",
   "metadata": {},
   "source": [
    "## OPAMPS\n",
    "Roughly 3 classes\n",
    "- General-purpose (GBW: 1 MHz - 20 MHz)\n",
    "- High-speed (GBW: 20 MHz - 200 MHz)\n",
    "- Ultra-high speed (GBW: > 200 MHz)"
   ]
  },
  {
   "cell_type": "markdown",
   "id": "8bbb4afc",
   "metadata": {},
   "source": [
    "# Sources:\n",
    "- https://www.ti.com/lit/an/snoa390b/snoa390b.pdf"
   ]
  }
 ],
 "metadata": {
  "language_info": {
   "name": "python"
  }
 },
 "nbformat": 4,
 "nbformat_minor": 5
}
