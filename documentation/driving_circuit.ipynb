{
 "cells": [
  {
   "cell_type": "markdown",
   "id": "5f4c0098",
   "metadata": {},
   "source": [
    "# Piezo power supply\n",
    "In order to supply maximum power for the piezo along the resonance point, we need\n",
    "- A square-wave generator (stm32)\n",
    "- A low-pass filter (optional)\n",
    "- A FET\n",
    "- A FET driver (to drive 2.5 amps to the piezo-element at resonance)\n",
    "\n",
    "## Solution 1 \n",
    "- Using a bldc driver board / buy some random inverter board, and drive the piezo-electric using a voltage source.\n",
    "\t- Make sure to check the voltage wave coming from the inverter, to check if a band-pass filter is needed.\n",
    "- Switching frequency:\n",
    "\t- Dead time is 520 ns, so 1 us is about 1 MHz which is definitely too slow for our purpose.\n",
    "- Most of the regular stuff doesn't switch at MHz frequencies\n",
    "\n",
    "### Conclusion\n",
    "- Too slow\n",
    "\n",
    "## Solution 2: single fet drive\n",
    "- Use a UCC2751x OR a UCC27611 as a FET driver\n",
    "\t- the UCC27611 \n",
    "\t\t- has better rise / fall times and propagation delays\n",
    "\t\t- It also has built-in circuitry for level shifting\n",
    "\t\t- Is really expensive\n",
    "\t- the UCC27611\n",
    "\t\t- Doesn't have level shifting (but we also don't need it)\n",
    "\t- fall + rise + dead times here are (td1+tr+td2+tf) * 10 = 10+20+20 = 50 ns, our switching period needs to be (1/2MHz) / 2 = 250 ns [since each side of the piezo-electric needs switch every 250 ns]. 250 ns / 50 = 5 times the rise + fall time. \n",
    "\t\t- Given that we really need a sine-wave, and we want to filter out the higher frequency components anyways, it's acceptable.\n",
    "\n",
    "### Conclusion\n",
    "- We need a bidirection / AC drive\n",
    "\n",
    "## Solution 3\n",
    "- Use a 4 x 1EDN8550BXTSA1 to form a full-bridge AC-drive\n",
    "\t- Add bootstrap circuitry for high-side supply.\n",
    "\t- Low side supply simply connected to PWM output.\n",
    "- Add 4 x NDS355AN as FET's\n",
    "\n",
    "### Can we use a single PWM signal for both drivers without creatinga short?\n",
    "No we can't, otherwise you need \n",
    "- Dead time\n",
    "- Separation between the 2 comparators\n",
    "\n",
    "### Conclusion\n",
    "- Use another model, this model seems to not have any decent spice models available, only pspice.\n",
    "\n",
    "## Solution 4\n",
    "- 4 x NDS355AN as FET's\n",
    "\t- Can handle a max of 30 Volts\n",
    "\t- Can handle \n",
    "\t\t- max 10 amps of pulsed current\n",
    "\t\t- max 1.7 amps of continuous current\n",
    "\t- Vgs_max = \n",
    "- The UCC27282\n",
    "\t- requires addition buck-converter / LDO circuitry for supplying lower voltages\n",
    "\t- Vgs_max= 20 V\n",
    "\t\t- Best keep it between 5 and 10 volts\n",
    "\t\n",
    "- Start with a single transceiver and a single receiver channel to bring down cost, once it works increase the n of channels\n",
    "\n",
    "## Solution 5\n",
    "- Use the SI7454FDP-T1-RE3, it is more expensive but it can handle\n",
    "\t- Voltages Vds = 100 V max (which is also good with the bootstrap voltage)\n",
    "\t- Id: 23.5 amps\n",
    "\t- This will allow us to drive the fet with voltages up to 50 volts, with current peaks up to 30 amps if required\n",
    "\t- Spice model is for Si7454DP instead of Si7454FDP\n",
    "\t\t- Differences: FDP takes ore drain current\n",
    "\t\t- FDP is faster, has much less gate charge\n",
    "\t\t- So whatever we simulate with this model, will be better in real life"
   ]
  },
  {
   "cell_type": "code",
   "execution_count": 9,
   "id": "af1b20cc",
   "metadata": {},
   "outputs": [
    {
     "name": "stdout",
     "output_type": "stream",
     "text": [
      "Max voltage drop across the capacitor: 1\n",
      "Bootstrap capacitor requirement: 2.2262499999999998e-08, safe: 2.22625e-07\n"
     ]
    }
   ],
   "source": [
    "\n",
    "#! Voltage drop over gate driver\n",
    "Q_gate = 22e-9 # 5 nC maximum\n",
    "Vdd = 12 # Supply for driver circuit (keep it between 10 and 12 volts) -> This makes sure switching times are at their lowest\n",
    "Vdh = 1 # Internal UCC27282 diode forward voltage drop\n",
    "# Keep vgs above 4.5 volts to be on the safe side\n",
    "Vgs_min = 10 # Lower side gate-source voltage for the SI7454FDP-T1-RE3 to conduct\n",
    "dvhb_max = Vdd-Vdh-(Vgs_min) # Maximum voltage drop allowed across the capacitor\n",
    "print(f\"Max voltage drop across the capacitor: {dvhb_max}\")\n",
    "\n",
    "#! Charge needed per switching cycle\n",
    "I_hb = 0.5e-3 # Quiescent current from Hb to Vss\n",
    "I_hbs = 50e-6 # Leakage current from Hb to Vss\n",
    "D_max = 0.5 # Duty cycle\n",
    "f_sw = 2e6 # 2 MHz switching frequency\n",
    "Q_total = Q_gate + I_hbs * (D_max / f_sw) + (I_hb / f_sw)\n",
    "C_boot = Q_total / dvhb_max # Required bootstrap capacitance\n",
    "C_boot_safe = C_boot * 10\n",
    "print(f\"Bootstrap capacitor requirement: {C_boot}, safe: {C_boot_safe}\")\n",
    "# Pick bootstrap cap around 230 nF"
   ]
  },
  {
   "cell_type": "markdown",
   "id": "36b28575",
   "metadata": {},
   "source": [
    "### Bootstrap capacitor decision\n",
    "- For now choose a bootstrap capacitor of about 20 nF to be on the safe side, especially when going to lower frequencies it might be necessary.\n"
   ]
  },
  {
   "cell_type": "code",
   "execution_count": 15,
   "id": "61119608",
   "metadata": {},
   "outputs": [
    {
     "name": "stdout",
     "output_type": "stream",
     "text": [
      "Pull-up / Down currents for high and low-side: 0.91 A for external resistance 11\n"
     ]
    }
   ],
   "source": [
    "\n",
    "#! External gate resistor selection\n",
    "## HIGH SIDE RESISTOR\n",
    "V_dh = 1 # Forward voltage drop bootstrap diode\n",
    "\n",
    "#* Equivalent gate resistance\n",
    "t_don = 15e-9 # Delay on-time\n",
    "C_iss = 195e-12 # Input capacitance\n",
    "R_gfet = 1 # Estimate of the gate resistance\n",
    "R_gate = 11 # External gate resistance connected\n",
    "R_loh = R_lol = R_hol = R_hoh = (0.3 / 3) # Gate driver internal high-side pull-up resistor (pull-up voltage / pull-up current)\n",
    "I_o = (Vdd - V_dh) / (R_hoh + R_gate + R_gfet)\n",
    "print(f\"Pull-up / Down currents for high and low-side: {round(I_o, 2)} A for external resistance {R_gate}\")"
   ]
  },
  {
   "cell_type": "markdown",
   "id": "72dddbb5",
   "metadata": {},
   "source": [
    "### Gate resistor decision\n",
    "- For now simply put a 10-11 ohm-resistor for current limiting. The peak pull-up / pull-down currents are about 3 amps."
   ]
  },
  {
   "cell_type": "markdown",
   "id": "8bbb4afc",
   "metadata": {},
   "source": [
    "# Sources:\n",
    "- https://www.ti.com/lit/an/snoa390b/snoa390b.pdf"
   ]
  }
 ],
 "metadata": {
  "kernelspec": {
   "display_name": ".venv",
   "language": "python",
   "name": "python3"
  },
  "language_info": {
   "codemirror_mode": {
    "name": "ipython",
    "version": 3
   },
   "file_extension": ".py",
   "mimetype": "text/x-python",
   "name": "python",
   "nbconvert_exporter": "python",
   "pygments_lexer": "ipython3",
   "version": "3.12.3"
  }
 },
 "nbformat": 4,
 "nbformat_minor": 5
}
