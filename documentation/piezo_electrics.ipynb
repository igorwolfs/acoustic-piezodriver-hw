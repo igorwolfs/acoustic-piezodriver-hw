{
 "cells": [
  {
   "cell_type": "markdown",
   "id": "73e0c69b",
   "metadata": {},
   "source": [
    "# Piezo-Electronics"
   ]
  },
  {
   "cell_type": "markdown",
   "id": "4c5c2d0f",
   "metadata": {},
   "source": [
    "## UB161M7\n",
    "- frequency at resonance: 1.70 MHz\n",
    "- resistance at resonance: <= 3.0 Ohms\n",
    "### Static capacitance\n",
    "- 1.3 nF at 1 kHz"
   ]
  },
  {
   "cell_type": "code",
   "execution_count": 2,
   "id": "307fec0d",
   "metadata": {},
   "outputs": [
    {
     "name": "stdout",
     "output_type": "stream",
     "text": [
      "c_rlc:2.6325000000000005e-10, l_rlc: 3.3294618323109704e-05, r_rlc:2, Q: 177.81681815752785\n"
     ]
    }
   ],
   "source": [
    "import math\n",
    "\n",
    "f_res = 1.7e6\n",
    "r_res = 2\n",
    "c_0 = 1.3e-9\n",
    "k_radial_coupling = 0.45\n",
    "c_rlc = c_0 * k_radial_coupling**2\n",
    "l_rlc = 1 / (c_rlc * (2*math.pi*f_res)**2)\n",
    "\n",
    "Q = (1/r_res) * math.sqrt(l_rlc / c_rlc)\n",
    "print(f\"c_rlc:{c_rlc}, l_rlc: {l_rlc}, r_rlc:{r_res}, Q: {Q}\")"
   ]
  },
  {
   "cell_type": "markdown",
   "id": "c1bcc868",
   "metadata": {},
   "source": [
    "### Checking out a simulation of the BVD-model\n",
    "\n",
    "Transfer function:\n",
    "$$\n",
    "Z(s) = \\frac{1}{Y(s)} = \\frac{1}{sC_0 + \\frac{1 + R_m C_m s + L_m C_m s^2}{sC_m}}\n",
    "$$"
   ]
  },
  {
   "cell_type": "markdown",
   "id": "14391a19",
   "metadata": {},
   "source": [
    "- At low frequencies: Frequency response is mostly determined by $sC_{0}$\n",
    "\t- $sC_{0}$ is small (order 1e-9), and increases with increasing frequency\n",
    "\t- $\\frac{1 + R_m C_m s + L_m C_m s^2}{sC_m}$: series branch has a capacitor with a lower capacitance with factor 10.\n",
    "\t\t- $\\frac{1}{sC_m}$ is large (order 1e10), and decreases with increasing frequency.\n",
    "\t\t- $L_ms$ is small (order 1e-5), and increases with increasing frequency.\n",
    "- At resonance frequency: \n",
    "\t- The fraction reduces to: $R_m$ and because $\\frac{1}{sC_0} > R_m$, the impedance becomes equal to $\\frac{1}{sC_0+1/R_m}$ with $sC_{0} < 1/R_{m}$\n",
    "\t\t- So ignoring the capacitance the impedance at resonance is approximately able to $R_{m}$"
   ]
  },
  {
   "cell_type": "markdown",
   "id": "365e8223",
   "metadata": {},
   "source": [
    "<img src=\"images/BVD_v1.png\" width=\"1400\" height=\"800\" />"
   ]
  },
  {
   "cell_type": "code",
   "execution_count": null,
   "id": "2955ffcd",
   "metadata": {},
   "outputs": [],
   "source": []
  },
  {
   "cell_type": "markdown",
   "id": "af9c3acc",
   "metadata": {},
   "source": []
  }
 ],
 "metadata": {
  "kernelspec": {
   "display_name": ".venv",
   "language": "python",
   "name": "python3"
  },
  "language_info": {
   "codemirror_mode": {
    "name": "ipython",
    "version": 3
   },
   "file_extension": ".py",
   "mimetype": "text/x-python",
   "name": "python",
   "nbconvert_exporter": "python",
   "pygments_lexer": "ipython3",
   "version": "3.12.3"
  }
 },
 "nbformat": 4,
 "nbformat_minor": 5
}
