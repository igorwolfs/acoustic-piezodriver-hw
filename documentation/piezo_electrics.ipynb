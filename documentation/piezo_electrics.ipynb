{
 "cells": [
  {
   "cell_type": "markdown",
   "id": "73e0c69b",
   "metadata": {},
   "source": [
    "# Piezo-Electronics"
   ]
  },
  {
   "cell_type": "markdown",
   "id": "4c5c2d0f",
   "metadata": {},
   "source": [
    "## UB161M7\n",
    "- frequency at resonance: 1.70 MHz\n",
    "- resistance at resonance: <= 3.0 Ohms\n",
    "### Static capacitance\n",
    "- 1.3 nF at 1 kHz"
   ]
  },
  {
   "cell_type": "code",
   "execution_count": 4,
   "id": "307fec0d",
   "metadata": {},
   "outputs": [
    {
     "name": "stdout",
     "output_type": "stream",
     "text": [
      "c_rlc:2.6325000000000005e-10, l_rlc: 3.3294618323109704e-05, r_rlc:2, Q: 177.81681815752785\n"
     ]
    }
   ],
   "source": [
    "import math\n",
    "\n",
    "f_res = 1.7e6\n",
    "r_res = 2\n",
    "c_0 = 1.3e-9\n",
    "k_radial_coupling = 0.45\n",
    "c_rlc = c_0 * k_radial_coupling**2\n",
    "l_rlc = 1 / (c_rlc * (2*math.pi*f_res)**2)\n",
    "\n",
    "Q = (1/r_res) * math.sqrt(l_rlc / c_rlc)\n",
    "print(f\"c_rlc:{c_rlc}, l_rlc: {l_rlc}, r_rlc:{r_res}, Q: {Q}\")"
   ]
  },
  {
   "cell_type": "code",
   "execution_count": null,
   "id": "92e10aef",
   "metadata": {},
   "outputs": [],
   "source": []
  }
 ],
 "metadata": {
  "kernelspec": {
   "display_name": ".venv",
   "language": "python",
   "name": "python3"
  },
  "language_info": {
   "codemirror_mode": {
    "name": "ipython",
    "version": 3
   },
   "file_extension": ".py",
   "mimetype": "text/x-python",
   "name": "python",
   "nbconvert_exporter": "python",
   "pygments_lexer": "ipython3",
   "version": "3.12.3"
  }
 },
 "nbformat": 4,
 "nbformat_minor": 5
}
