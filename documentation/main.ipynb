{
 "cells": [
  {
   "cell_type": "markdown",
   "id": "a200e860",
   "metadata": {},
   "source": [
    "# Project Goal\n",
    "\n",
    "Characterize materials using ultrasound.\n",
    "Goal is to analyze and characterize materials groups such as plastics, composites and metals.\n",
    "\n",
    "\n"
   ]
  },
  {
   "cell_type": "markdown",
   "id": "8764250a",
   "metadata": {},
   "source": []
  },
  {
   "cell_type": "markdown",
   "id": "0877228e",
   "metadata": {},
   "source": [
    "## Oscillation Frequency Choice"
   ]
  },
  {
   "cell_type": "code",
   "execution_count": null,
   "id": "4e703284",
   "metadata": {},
   "outputs": [
    {
     "name": "stdout",
     "output_type": "stream",
     "text": [
      "['FR4_glass', 'Alumina_ceramic', 'Copper', 'Tin', 'Iron']\n",
      "FR4_glass - K: {'voigt': 146.005, 'reuss': 146.005, 'vrh': 146.005}, G: {'voigt': 59.854, 'reuss': 46.959, 'vrh': 53.406}, rho: 1.970734329777291\n"
     ]
    },
    {
     "ename": "KeyError",
     "evalue": "'elastic_tensor'",
     "output_type": "error",
     "traceback": [
      "\u001b[31m---------------------------------------------------------------------------\u001b[39m",
      "\u001b[31mKeyError\u001b[39m                                  Traceback (most recent call last)",
      "\u001b[36mCell\u001b[39m\u001b[36m \u001b[39m\u001b[32mIn[71]\u001b[39m\u001b[32m, line 48\u001b[39m\n\u001b[32m     46\u001b[39m G = d[\u001b[33m'\u001b[39m\u001b[33mshear_modulus\u001b[39m\u001b[33m'\u001b[39m][\u001b[33m'\u001b[39m\u001b[33mvrh\u001b[39m\u001b[33m'\u001b[39m] \u001b[38;5;66;03m# GPa\u001b[39;00m\n\u001b[32m     47\u001b[39m \u001b[38;5;28mprint\u001b[39m(\u001b[33mf\u001b[39m\u001b[33m\"\u001b[39m\u001b[38;5;132;01m{\u001b[39;00mmkeys[i]\u001b[38;5;132;01m}\u001b[39;00m\u001b[33m - K: \u001b[39m\u001b[38;5;132;01m{\u001b[39;00md[\u001b[33m'\u001b[39m\u001b[33mbulk_modulus\u001b[39m\u001b[33m'\u001b[39m]\u001b[38;5;132;01m}\u001b[39;00m\u001b[33m, G: \u001b[39m\u001b[38;5;132;01m{\u001b[39;00md[\u001b[33m'\u001b[39m\u001b[33mshear_modulus\u001b[39m\u001b[33m'\u001b[39m]\u001b[38;5;132;01m}\u001b[39;00m\u001b[33m, rho: \u001b[39m\u001b[38;5;132;01m{\u001b[39;00mrho\u001b[38;5;132;01m}\u001b[39;00m\u001b[33m\"\u001b[39m)\n\u001b[32m---> \u001b[39m\u001b[32m48\u001b[39m \u001b[38;5;28mprint\u001b[39m(\u001b[43md\u001b[49m\u001b[43m[\u001b[49m\u001b[33;43m\"\u001b[39;49m\u001b[33;43melastic_tensor\u001b[39;49m\u001b[33;43m\"\u001b[39;49m\u001b[43m]\u001b[49m)\n\u001b[32m     49\u001b[39m \u001b[38;5;66;03m## convert GPa→Pa, g/cm³→kg/m³ for SI:\u001b[39;00m\n\u001b[32m     50\u001b[39m rho_si = rho * \u001b[32m1e3\u001b[39m  \n",
      "\u001b[31mKeyError\u001b[39m: 'elastic_tensor'"
     ]
    }
   ],
   "source": [
    "# Container for fetched data\n",
    "materials_data = {}\n",
    "\n",
    "##########################################################################################\n",
    "######################## The Materials Project imports ###################################\n",
    "##########################################################################################\n",
    "\n",
    "import sys\n",
    "import os\n",
    "sys.path.insert(0, os.path.abspath(\"\") + '/ae_secrets')\n",
    "from mp_api.client import MPRester\n",
    "import numpy as np\n",
    "from mq_secrets import API_KEY\n",
    "# Replace with your actual API key\n",
    "from pymatgen.ext.matproj import MPRester\n",
    "from pprint import pprint\n",
    "\n",
    "#! Materials\n",
    "categories = {\n",
    "    \"PCB_materials\": {\n",
    "        # FR4 is a glass-reinforced epoxy laminate;\n",
    "        # often represented by its main constituents\n",
    "        \"FR4_glass\": \"mp-8352\",         # Glass fiber\n",
    "        \"Alumina_ceramic\": \"mp-1143\"   # Common ceramic\n",
    "    },\n",
    "    \"Metals\": {\n",
    "        \"Copper\": \"mp-30\", \n",
    "        \"Tin\": \"mp-117\",\n",
    "        \"Iron\": \"mp-13\"\n",
    "\t}\n",
    "}\n",
    "\n",
    "\n",
    "fields=[\"density\", \"bulk_modulus\", \"shear_modulus\", \"material_id\"]\n",
    "\n",
    "# Fetch data using the mp-api client’s summary.search endpoint\n",
    "with MPRester(API_KEY) as mpr:\n",
    "\t# Get PCB materials\n",
    "\tmlist = list(categories[\"PCB_materials\"].values()) + list(categories[\"Metals\"].values())\n",
    "\tmkeys = list(categories[\"PCB_materials\"].keys()) + list(categories[\"Metals\"].keys())\n",
    "\tprint(mkeys)\n",
    "\tdocs = mpr.materials.summary.search(material_ids=mlist)\n",
    "\tfor i, d in enumerate(docs):\n",
    "\t\trho = d['density']\n",
    "\t\tK = d['bulk_modulus']['vrh'] # GPa\n",
    "\t\tG = d['shear_modulus']['vrh'] # GPa\n",
    "\t\tprint(f\"{mkeys[i]} - K: {d['bulk_modulus']}, G: {d['shear_modulus']}, rho: {rho}\")\n",
    "\t\tprint(d[\"elastic_tensor\"])\n",
    "\t\t## convert GPa→Pa, g/cm³→kg/m³ for SI:\n",
    "\t\trho_si = rho * 1e3  \n",
    "\t\tK_si = K * 1e9\n",
    "\t\tG_si = G * 1e9\n",
    "\t\tprint(mkeys[i])\n",
    "\t\tmaterials_data[mkeys[i]] = {}\n",
    "\t\tmaterials_data[mkeys[i]]['rho_si'] = rho_si\n",
    "\t\tmaterials_data[mkeys[i]]['K_si'] = K_si\n",
    "\t\tmaterials_data[mkeys[i]]['G_si'] = G_si\n",
    "\n",
    "##########################################################################################\n",
    "############################## Manual findings ###########################################\n",
    "##########################################################################################\n",
    "\n",
    "aluminium_data = {'rho_si': (2.57+2.95)/2, 'K_si': ((62+106) / 2)*1.0e9, 'G_si': ((25+34) / 2) * 1.0e9}\n",
    "aluminium_data = {'rho_si': (2.57+2.95)/2, 'K_si': ((62+106) / 2)*1.0e9, 'G_si': ((25+34) / 2) * 1.0e9}\n",
    "\n",
    "##########################################################################################\n",
    "############################## Data Computation ##########################################\n",
    "##########################################################################################\n",
    "\n",
    "\n",
    "for keys, value in materials_data.items():\n",
    "\t\tK_si = materials_data['K_si']\n",
    "\t\tG_si = materials_data['G_si']\n",
    "\t\trho_si = materials_data['rho_si']\n",
    "\t\t## longitudinal speed: sqrt((K + 4/3 G)/ρ)\n",
    "\t\tv_l = np.sqrt((K_si + 4/3*G_si)/rho_si)\n",
    "\t\t## shear speed: sqrt(G/ρ)\n",
    "\t\tv_s = np.sqrt(G_si/rho_si)\n",
    "\t\tmaterials_data[mkeys[i]]['v_l'] = v_l\n",
    "\t\tmaterials_data[mkeys[i]]['v_s'] = v_s\n",
    "pprint(materials_data)"
   ]
  },
  {
   "cell_type": "code",
   "execution_count": null,
   "id": "fb6526fb",
   "metadata": {},
   "outputs": [],
   "source": [
    "# Material Properties\n"
   ]
  },
  {
   "cell_type": "code",
   "execution_count": null,
   "id": "0c4f178a",
   "metadata": {},
   "outputs": [],
   "source": [
    "# Penetration Depth\n"
   ]
  },
  {
   "cell_type": "markdown",
   "id": "fcd47dce",
   "metadata": {},
   "source": [
    "### Conclusion"
   ]
  },
  {
   "cell_type": "markdown",
   "id": "d9e6feb6",
   "metadata": {},
   "source": [
    "## Piezo-electric transducer availability\n",
    "- Acoustic impedance check\n",
    "- Optional matching material check"
   ]
  }
 ],
 "metadata": {
  "kernelspec": {
   "display_name": ".venv",
   "language": "python",
   "name": "python3"
  },
  "language_info": {
   "codemirror_mode": {
    "name": "ipython",
    "version": 3
   },
   "file_extension": ".py",
   "mimetype": "text/x-python",
   "name": "python",
   "nbconvert_exporter": "python",
   "pygments_lexer": "ipython3",
   "version": "3.12.3"
  }
 },
 "nbformat": 4,
 "nbformat_minor": 5
}
