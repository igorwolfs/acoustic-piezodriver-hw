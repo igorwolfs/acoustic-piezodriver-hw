{
 "cells": [
  {
   "cell_type": "markdown",
   "id": "a200e860",
   "metadata": {},
   "source": [
    "# Project Goal\n",
    "\n",
    "Characterize materials using ultrasound.\n",
    "Goal is to analyze and characterize materials groups such as plastics, composites and metals.\n",
    "\n",
    "\n"
   ]
  },
  {
   "cell_type": "markdown",
   "id": "8764250a",
   "metadata": {},
   "source": []
  },
  {
   "cell_type": "markdown",
   "id": "0877228e",
   "metadata": {},
   "source": [
    "## Oscillation Frequency Choice"
   ]
  },
  {
   "cell_type": "code",
   "execution_count": null,
   "id": "4e703284",
   "metadata": {
    "vscode": {
     "languageId": "plaintext"
    }
   },
   "outputs": [],
   "source": [
    "# MATERIAL DUT (types of material + wavelengths of elastic waves)"
   ]
  },
  {
   "cell_type": "code",
   "execution_count": null,
   "id": "fb6526fb",
   "metadata": {
    "vscode": {
     "languageId": "plaintext"
    }
   },
   "outputs": [],
   "source": [
    "# Which properties do we need?"
   ]
  },
  {
   "cell_type": "code",
   "execution_count": null,
   "id": "0c4f178a",
   "metadata": {
    "vscode": {
     "languageId": "plaintext"
    }
   },
   "outputs": [],
   "source": [
    "# Penetratino Depth"
   ]
  },
  {
   "cell_type": "markdown",
   "id": "fcd47dce",
   "metadata": {},
   "source": [
    "### Conclusion"
   ]
  },
  {
   "cell_type": "markdown",
   "id": "d9e6feb6",
   "metadata": {},
   "source": [
    "## Piezo-electric transducer availability\n",
    "- Acoustic impedance check\n",
    "- Optional matching material check"
   ]
  }
 ],
 "metadata": {
  "language_info": {
   "name": "python"
  }
 },
 "nbformat": 4,
 "nbformat_minor": 5
}
