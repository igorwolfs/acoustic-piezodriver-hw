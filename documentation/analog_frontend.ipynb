{
 "cells": [
  {
   "cell_type": "markdown",
   "id": "aae19aa8",
   "metadata": {},
   "source": [
    "# ADC"
   ]
  },
  {
   "cell_type": "markdown",
   "id": "4e1bd360",
   "metadata": {},
   "source": [
    "## MS9280\n",
    "- 10-bit\n",
    "- 35 MSPS\n",
    "- sample annd hold amplifier\n",
    "- single-ended OR differential inputs\n",
    "- Range selection / offset selection"
   ]
  }
 ],
 "metadata": {
  "language_info": {
   "name": "python"
  }
 },
 "nbformat": 4,
 "nbformat_minor": 5
}
