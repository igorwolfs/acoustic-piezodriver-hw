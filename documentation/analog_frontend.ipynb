{
 "cells": [
  {
   "cell_type": "markdown",
   "id": "aae19aa8",
   "metadata": {},
   "source": [
    "#  ADC MS9280\n",
    "- 10-bit\n",
    "- 35 MSPS\n",
    "- sample annd hold amplifier\n",
    "- single-ended OR differential inputs\n",
    "- Range selection / offset selection\n",
    "- Tristate voltage (1, 0, high-Z)"
   ]
  },
  {
   "cell_type": "markdown",
   "id": "e452fbce",
   "metadata": {},
   "source": [
    "## Examples"
   ]
  },
  {
   "cell_type": "markdown",
   "id": "22aa7bd9",
   "metadata": {},
   "source": [
    "### bolt: MSMS9280 \n",
    "#### Device functionality\n",
    "- Voltage glitcher (can pull voltages to ground at very high speeds)\n",
    "- Differential power analysis oscilloscope\n",
    "- 8-channel logic analyzer (with GPIO's connected directly to RP2040, frequencies up to 200 MHz)\n",
    "\n",
    "<img src=\"images/ms9280_bolt.png\" width=\"1000\" height=\"400\" />"
   ]
  },
  {
   "cell_type": "markdown",
   "id": "bf0eccd2",
   "metadata": {},
   "source": [
    "#### ADC Mode configuration (Top / Bottom)\n",
    "- AIN: input connection\n",
    "- Mode pin: AVDD = 3.3 V\n",
    "- REFSENSE pin: Grounded\n",
    "- REFTS, VREF: shorted\n",
    "- REFBS: grounded\n",
    "- AIN: 2 V (reference voltage 2 V)"
   ]
  },
  {
   "cell_type": "markdown",
   "id": "9a91096b",
   "metadata": {},
   "source": [
    "### glitching_fmaw: MSMS9280\n",
    "\n",
    "<img src=\"images/ms9280_glitching_fmaw.png\" width=\"1000\" height=\"400\" />"
   ]
  },
  {
   "cell_type": "markdown",
   "id": "ed1a4fd5",
   "metadata": {},
   "source": [
    "### ADC Mode configuration (Top / Bottom)\n",
    "- AIN: input connection\n",
    "- Mode pin: AVDD (3.3 V)\n",
    "- REFSENSE pin (Grounded)\n",
    "- REFTS, VREF: Shorted\n",
    "- REFBS: grounded\n",
    "- AIN: 2 V"
   ]
  },
  {
   "cell_type": "markdown",
   "id": "ba1d2d54",
   "metadata": {},
   "source": [
    "## Execution"
   ]
  },
  {
   "cell_type": "markdown",
   "id": "f2af802e",
   "metadata": {},
   "source": [
    "### ADC Mode choice\n",
    "\n",
    "**Choose the ADC to be in differential-mode.**\n",
    "- DC offset circuitry not needed\n",
    "\t- Introduces accuracy errors (exact shift unknown) and noise\n",
    "- Common mode filtering (cancels out even harmonics)\n",
    "\n",
    "**Settings**\n",
    "- AIN -> input 1\n",
    "- REFTS, REFBS shorted -> input 2\n",
    "- Mode: AVDD / 2\n",
    "- REFSENSE: \n",
    "\t- VREF = 2  (default): [Connect REFSENSE to VREF]\n",
    "\t- VREF = 1  (switch): [Connect REFSENSE to AGND]\n",
    "- REFTS, REFBS: AVDD / 2"
   ]
  },
  {
   "cell_type": "code",
   "execution_count": null,
   "id": "41059d14",
   "metadata": {},
   "outputs": [],
   "source": []
  },
  {
   "cell_type": "markdown",
   "id": "911fc1a6",
   "metadata": {},
   "source": [
    "### ADC Reference voltage\n",
    "**Choise of the highest vs lowest reference voltage**\n",
    "- Check how much the default Vpp signal is coming out of the ultrasonic transducer.\n",
    "- Depending on how high that that is, "
   ]
  },
  {
   "cell_type": "markdown",
   "id": "1feb6fe1",
   "metadata": {},
   "source": [
    "### Sources:\n",
    "- https://ww1.microchip.com/downloads/aemDocuments/documents/MCU08/ProductDocuments/SupportingCollateral/Differential-and-Single-Ended-ADC-WhitePaper-DS00003197A.pdf"
   ]
  },
  {
   "cell_type": "markdown",
   "id": "2ba517d2",
   "metadata": {},
   "source": [
    "# Preamplifier"
   ]
  },
  {
   "cell_type": "markdown",
   "id": "f67bdf76",
   "metadata": {},
   "source": [
    "## Fully differential amplifier\n",
    "### Resistor matching\n",
    "- LT5400A\n"
   ]
  }
 ],
 "metadata": {
  "kernelspec": {
   "display_name": ".venv",
   "language": "python",
   "name": "python3"
  },
  "language_info": {
   "name": "python",
   "version": "3.12.3"
  }
 },
 "nbformat": 4,
 "nbformat_minor": 5
}
