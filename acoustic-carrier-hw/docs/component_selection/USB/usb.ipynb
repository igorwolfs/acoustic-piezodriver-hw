{
 "cells": [
  {
   "cell_type": "markdown",
   "id": "c6792abe",
   "metadata": {},
   "source": [
    "# USB Inrush Current limiting\n",
    "We have about 20 uF of capacitance at our input.\n",
    "In order to limit the inrush current.\n",
    "The USB power supply is considered an ideal voltage source.\n",
    "- max 10 uF for inrush current, we have about 20 uF\n",
    "- The DC resistance of the ferrite is about 0.04 - 0.05 DCR\n",
    "- Add a resistor just to be sure\n",
    "\n",
    "**Conclusion**\n",
    "I don't think the inrush current will be a big problem, however if it is we can always add a small resistor of about 1-2 ohms in series (0805 pad prepared here)"
   ]
  },
  {
   "cell_type": "code",
   "execution_count": null,
   "id": "6c5b7be2",
   "metadata": {},
   "outputs": [],
   "source": []
  }
 ],
 "metadata": {
  "language_info": {
   "name": "python"
  }
 },
 "nbformat": 4,
 "nbformat_minor": 5
}
