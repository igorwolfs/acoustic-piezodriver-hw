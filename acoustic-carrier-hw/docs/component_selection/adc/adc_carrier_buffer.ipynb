{
 "cells": [
  {
   "cell_type": "markdown",
   "id": "bffd5807",
   "metadata": {},
   "source": [
    "# Input RC Pole\n",
    "## Problem\n",
    "For some reason there is roloff in my filter at 10 MHz.\n",
    "- This is probably the pole formed by the input cap together with the switch resistance, which is around 50 * 5e-12 = 25 MHz.\n",
    "- Given the switch is on half the time this probably reduces the influence to 12.5 MHz\n",
    "\n",
    "## Solution\n",
    "Seems to be unsolvable, the only thing you can really do is reduce the source impedance as much as possible to allow quick charging of the caps.\n",
    "\n",
    "You can though add an extra pole in the amplification circuit so there's amplification happening between 6 and 10 MHz for example if this would be the problematic frequency band.\n",
    "\n",
    "You thus need a high-speed buffer that can deliver enough current at the right moment, and has a tight feedback loop with the ADC input. So fast voltage drops at the output as a consequence of capacitor current consumption must be immediately filled-up."
   ]
  },
  {
   "cell_type": "markdown",
   "id": "e2f9b249",
   "metadata": {},
   "source": [
    "# Pre-built differential amplifiers\n",
    "\n",
    "- They are probably more expensive, but easier to integrate.\n",
    "- Ideally they have some-kind of tuning possibility to work away the input pole.\n",
    "- Ideally they have a commonly used package.\n",
    "- They should take a differential signal and\n",
    "\t- Output a differential signal\n",
    "\t- (still considering) output a single-ended signal -> just in case maybe we'd like to limit ourselves to differential signal transfer, and single-ended measuring once we hit the end. It cheapens our front-end and probably improves signal quality, since I'm not sure whether the system is actually meant for differential signal measurement.\n",
    "\n",
    "## Examples\n",
    "### AD: \n",
    "#### ADA4940\n",
    "- differential input to differential output ADC buffer\n",
    "\n",
    "#### ADA4941\n",
    "- Differential input to differential output ADC buffer\n",
    "\n",
    "#### AD8137\n",
    "[link](https://jlcpcb.com/api/file/downloadByFileSystemAccessId/8604443426939154432)\n",
    "\n",
    "- differential driver\n",
    "- common-mode voltage pin\n",
    "- single-ended to differential and fully differential configurations possible.\n",
    "- Requires external feedback\n",
    "- Differential to differential amplification\n",
    "\n",
    "### TI:\n",
    "#### OPA356\n",
    "simple OPAMP, high frequency\n",
    "\n",
    "#### THS4551\n",
    "Fully differential amplifier\n",
    "- Requires external feedback + phase compensation\n",
    "\n",
    "#### THS452x\n",
    "Differential amplfiier, example configuration:\n",
    "\n",
    "![](images/adc_buffer_example_circuit.png)\n",
    "\n",
    "- GBW: 145 MHz bandwidth: 1 V Amplification\n",
    "- Small-signal bandwidth: 135 MHz"
   ]
  },
  {
   "cell_type": "markdown",
   "id": "c2eeb933",
   "metadata": {},
   "source": [
    "# Electrical specs\n",
    "## Pins\n",
    "- PDn: if pulled-up runs the amplifier.\n",
    "- Vocm: common mode voltage input"
   ]
  },
  {
   "cell_type": "markdown",
   "id": "081245b6",
   "metadata": {},
   "source": [
    "## Pin electrical specs\n",
    "\n",
    "The reference voltage comes from the ADC Vdd, so either\n",
    "- We make a low-impedance voltage divider, and run a lot of current through it.\n",
    "- We make a high-impedance divider which we then buffer (probably the better option)\n",
    "- We use an LDO as a voltage reference\n",
    "\n",
    "### Input voltages (Vi, Vo, Vocm)\n",
    "- Between Vs- - 0.7 and Vs+ + 0.7 (so 0-> 4 V max)\n",
    "- Vid (differential input voltage): 1 V\n",
    "\n",
    "### Current sourcing / sinking\n",
    "- Input current: max 10 mA (Vin and Vocm)\n",
    "- Output current: max 100 mA\n",
    "\n",
    "## Buffering common mode voltage"
   ]
  },
  {
   "cell_type": "markdown",
   "id": "ec0b95e3",
   "metadata": {},
   "source": [
    "# Terminology\n",
    "## GBP vs Small Signal Gain\n",
    "### GBP\n",
    "GBP is simply the product of the amplifiers open loop gain and the frequency at which that gain rolls off.\n",
    "### Small Signal Gain\n",
    "The small-signal gain refers to the frequency at which the amplifiers gain drops to -3dB.\n"
   ]
  },
  {
   "cell_type": "markdown",
   "id": "99bd1972",
   "metadata": {},
   "source": []
  }
 ],
 "metadata": {
  "language_info": {
   "name": "python"
  }
 },
 "nbformat": 4,
 "nbformat_minor": 5
}
