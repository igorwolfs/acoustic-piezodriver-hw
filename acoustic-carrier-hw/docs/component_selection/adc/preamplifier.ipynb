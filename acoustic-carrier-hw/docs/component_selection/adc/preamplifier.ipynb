{
 "cells": [
  {
   "cell_type": "markdown",
   "id": "bffd5807",
   "metadata": {},
   "source": [
    "# Input RC Pole\n",
    "## Problem\n",
    "For some reason there is roloff in my filter at 10 MHz.\n",
    "- This is probably the pole formed by the input cap together with the switch resistance, which is around 50 * 5e-12 = 25 MHz.\n",
    "- Given the switch is on half the time this probably reduces the influence to 12.5 MHz\n",
    "\n",
    "## Solution\n",
    "Seems to be unsolvable, the only thing you can really do is reduce the source impedance as much as possible to allow quick charging of the caps.\n",
    "\n",
    "You can though add an extra pole in the amplification circuit so there's amplification happening between 6 and 10 MHz for example if this would be the problematic frequency band.\n",
    "\n",
    "You thus need a high-speed buffer that can deliver enough current at the right moment, and has a tight feedback loop with the ADC input. So fast voltage drops at the output as a consequence of capacitor current consumption must be immediately filled-up."
   ]
  },
  {
   "cell_type": "markdown",
   "id": "e2f9b249",
   "metadata": {},
   "source": [
    "# Pre-built amplifiers\n",
    "\n",
    "- They are probably more expensive, but easier to integrate.\n",
    "- Ideally they have some-kind of tuning possibility to work away the input pole.\n",
    "- Ideally they have a commonly used package.\n",
    "- They should take a differential signal and\n",
    "\t- Output a differential signal\n",
    "\t- (still considering) output a single-ended signal -> just in case maybe we'd like to limit ourselves to differential signal transfer, and single-ended measuring once we hit the end. It cheapens our front-end and probably improves signal quality, since I'm not sure whether the system is actually meant for differential signal measurement."
   ]
  },
  {
   "cell_type": "markdown",
   "id": "ec0b95e3",
   "metadata": {},
   "source": []
  }
 ],
 "metadata": {
  "language_info": {
   "name": "python"
  }
 },
 "nbformat": 4,
 "nbformat_minor": 5
}
