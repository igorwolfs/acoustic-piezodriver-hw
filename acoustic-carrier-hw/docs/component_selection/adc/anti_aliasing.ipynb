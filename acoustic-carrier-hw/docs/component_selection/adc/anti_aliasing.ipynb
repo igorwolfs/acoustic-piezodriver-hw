{
 "cells": [
  {
   "cell_type": "markdown",
   "id": "1589d789",
   "metadata": {},
   "source": [
    "# Anti-Aliasing Filter Design"
   ]
  },
  {
   "cell_type": "markdown",
   "id": "21793d30",
   "metadata": {},
   "source": [
    "# Single-ended output filter\n",
    "![](images/adc_rlc_filter.png)"
   ]
  },
  {
   "cell_type": "markdown",
   "id": "57dda5eb",
   "metadata": {},
   "source": [
    "Transfer function becomes: \n",
    "\n",
    "$$\n",
    "\\frac{V_O}{V_I}\n",
    "=\n",
    "\\frac{\\displaystyle \\frac{1}{L C}}\n",
    "     {s^2\n",
    "      + s\\Bigl(\\frac{1}{R_2 C} + \\frac{R_1}{L}\\Bigr)\n",
    "      + \\Bigl(1 + \\frac{R_1}{R_2}\\Bigr)\\frac{1}{L C}\n",
    "     }$$\n",
    "\n",
    "$$\n",
    "\\omega_O \\;=\\; \\sqrt{\\frac{1}{\\alpha\\,L\\,C}}\n",
    "$$\n",
    "\n",
    "$$\n",
    "Q \\;=\\;\n",
    "\\frac{\n",
    "  \\displaystyle \\sqrt{\\frac{1}{\\alpha\\,L\\,C}}\n",
    "}{\n",
    "  \\displaystyle \\frac{1}{\\alpha\\,R_T\\,C}\n",
    "  \\;+\\;\n",
    "  \\frac{R_T\\,(1 - \\alpha)}{L}\n",
    "}\n",
    "$$\n",
    "\n",
    "### R2\n",
    "- Additional tuning parameter (Q-factor)\n",
    "- DC bias current provision\n",
    "\n",
    "Choose R2 = 2k (larger than 100 to avoid messing too much with the differential impedance) (1/100 + 1/2000)^(-1) ~= 100"
   ]
  },
  {
   "cell_type": "code",
   "execution_count": null,
   "id": "25185812",
   "metadata": {
    "vscode": {
     "languageId": "plaintext"
    }
   },
   "outputs": [],
   "source": [
    "\n",
    "import math \n",
    "#! >>>> CHOICE\n",
    "R2_filter = 2e3\n",
    "R1_filter = 5\n",
    "w0 = 2*math.pi * 15e6\n",
    "#! <<<< CHOICE\n",
    "\n",
    "Rt = R1_filter + R2_filter\n",
    "a_atten = (R2_filter) / (R1_filter + R2_filter)\n",
    "Q_target = 0.707\n",
    "\n",
    "print(f\"DC-Attenuation: {a_atten}\")\n",
    "LC_product = (1 / (w0 * math.sqrt(a_atten)))**2\n",
    "print(f\"LC-product: {LC_product}\")\n",
    "L_filter = Rt / (2*w0*Q_target) * (1+math.sqrt(2*a_atten-1))\n",
    "L_filter_no_R2 = Rt / (w0 * Q_target)\n",
    "print(f\"L_filter: {L_filter*1e9:.2f} nH or {L_filter_no_R2*1e9:.2f} nH\")\n",
    "C_filter = (1 / (a_atten* L_filter_no_R2 * w0**2))\n",
    "print(f\"C_filter: {C_filter*1e12:.2f} pF\")"
   ]
  }
 ],
 "metadata": {
  "language_info": {
   "name": "python"
  }
 },
 "nbformat": 4,
 "nbformat_minor": 5
}
