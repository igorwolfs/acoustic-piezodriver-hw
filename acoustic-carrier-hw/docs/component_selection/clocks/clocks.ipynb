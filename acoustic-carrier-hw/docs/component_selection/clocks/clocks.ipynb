{
 "cells": [
  {
   "cell_type": "markdown",
   "id": "25b33130",
   "metadata": {},
   "source": [
    "(ECP5 and ECP5-5G sysCLOCK PLL/DLL Design and User Guide)\n",
    "# Available clocks\n",
    "- 125 MHz (Generated through ethernet-PHY), injected into PLL\n",
    "- Internal on-chip CMOS oscillator\n",
    "\t- Default: 2.4 MHz, can be (4.8, 9.7, 19.4, 38.8, 62 MHz) after boot"
   ]
  },
  {
   "cell_type": "markdown",
   "id": "a93ec5e8",
   "metadata": {},
   "source": [
    "# Lattice PLL\n",
    "- maximum input frequency for the lattice PLL is 8-400 MHz\n",
    "- "
   ]
  }
 ],
 "metadata": {
  "language_info": {
   "name": "python"
  }
 },
 "nbformat": 4,
 "nbformat_minor": 5
}
