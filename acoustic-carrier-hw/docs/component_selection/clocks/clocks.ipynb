{
 "cells": [
  {
   "cell_type": "markdown",
   "id": "25b33130",
   "metadata": {},
   "source": [
    "(ECP5 and ECP5-5G sysCLOCK PLL/DLL Design and User Guide)\n",
    "# Available clocks\n",
    "- 125 MHz (Generated through ethernet-PHY), injected into PLL\n",
    "- Internal on-chip CMOS oscillator\n",
    "\t- Default: 2.4 MHz, can be (4.8, 9.7, 19.4, 38.8, 62 MHz) after boot"
   ]
  },
  {
   "cell_type": "markdown",
   "id": "257ef502",
   "metadata": {},
   "source": [
    "# Required Clocks\n",
    "## DDR3L SDRAM\n",
    "- Doesn't really matter, the lowest speed grade is 533 MHz which is out of the ECP5U's league. Try to run it at about 250 MHz\n",
    "## ADC\n",
    "- Requires 35 MHz\n",
    "## PWM\n",
    "- Driving the Piezo at about 0.1-10 MHz\n",
    "\n",
    "## Flash\n",
    "- QSPI\n",
    "\t- Up to 133 MHz max speed\n",
    "\t- Everything below works"
   ]
  },
  {
   "cell_type": "markdown",
   "id": "a93ec5e8",
   "metadata": {},
   "source": [
    "# Lattice PLL\n",
    "- maximum input frequency for the lattice PLL is 8-400 MHz"
   ]
  },
  {
   "cell_type": "markdown",
   "id": "44876d65",
   "metadata": {},
   "source": []
  }
 ],
 "metadata": {
  "language_info": {
   "name": "python"
  }
 },
 "nbformat": 4,
 "nbformat_minor": 5
}
