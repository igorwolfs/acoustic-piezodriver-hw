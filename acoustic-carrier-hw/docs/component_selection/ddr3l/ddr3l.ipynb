{
 "cells": [
  {
   "cell_type": "markdown",
   "id": "b0806036",
   "metadata": {},
   "source": [
    "# Power / Voltage Supply requirements\n",
    "NOTE: the DDR3L device is backward compatible to DDR3\n",
    "- SO 1.5 V operation is possible (+-0.075 V)"
   ]
  },
  {
   "cell_type": "markdown",
   "id": "8f76b3c6",
   "metadata": {},
   "source": [
    "## VDD/VDDQ\n",
    "- VDD: Voltage: 1.35 V (1.283–1.45V)\n",
    "- VDDQ:\n",
    "\t- Drives the circuitry for the DQ signals (push-pull)\n",
    "\t\t- HF transients\n",
    "\t- Voltage: 1.35 V (1.283–1.45V)\n",
    "\n",
    "### Recommended decoupling\n",
    "- Choose 2x0.1 uF, 1 uF, 10 uF decoupling capacitors (Mix between LogicBone and OrangeCrab)\n",
    "- Make sure the capacitors \n",
    "\t- are CERAMIC\n",
    "\t- Are >= quality than x7r\n",
    "\t- OrangeCrab used are the x6s caps, which are worse than x7r in terms of f/T stability"
   ]
  },
  {
   "cell_type": "markdown",
   "id": "08443897",
   "metadata": {},
   "source": [
    "## VREFCA / VREFDQ\n",
    "- Voltage reference for control, command and address\n",
    "- Voltage reference for data (DQ)\n",
    "\n",
    "### Recommended decoupling\n",
    "- 0.01 uF and 0.1 uF ceramic capacitor (0402) for each Vref"
   ]
  },
  {
   "cell_type": "markdown",
   "id": "a3a22a7c",
   "metadata": {},
   "source": [
    "## Sources\n",
    "- TI DDR3 Design Requirements: https://www.ti.com/lit/an/sprabi1d/sprabi1d.pdf?ts=1746661859714\n"
   ]
  },
  {
   "cell_type": "markdown",
   "id": "9bbd0060",
   "metadata": {},
   "source": [
    "# Speed\n",
    "Default datarates are\n",
    "- 1866 MT/s\n",
    "- 1600  MT/s\n",
    "- 1333 MT/s\n",
    "- 1066 MT/s\n"
   ]
  },
  {
   "cell_type": "markdown",
   "id": "e2af179b",
   "metadata": {},
   "source": []
  }
 ],
 "metadata": {
  "language_info": {
   "name": "python"
  }
 },
 "nbformat": 4,
 "nbformat_minor": 5
}
