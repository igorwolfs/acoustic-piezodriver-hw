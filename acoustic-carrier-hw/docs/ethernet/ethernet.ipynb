{
 "cells": [
  {
   "cell_type": "markdown",
   "id": "2c2cce09",
   "metadata": {},
   "source": [
    "# Power"
   ]
  },
  {
   "cell_type": "markdown",
   "id": "e1ba2533",
   "metadata": {},
   "source": [
    "## Power pins\n",
    "- AVDDH(3.3 / 2.5 V) [2 x pins]\n",
    "- AVDDL (1.2 V) [2 x pins]\n",
    "- DVDLL (1.2 V) [VDD] [4 x pins]\n",
    "- DVDDH (3.3, 2.5 or 1.8 V) [VDD] [2 x pins]\n",
    "- VSS (GND)\n",
    "- LDO_O (Contains control to drive FET for 1.2 V output)\n",
    "\t- Leave unused, use your own 1.2 V supply\n",
    "- AVDD_PL (1.2 V for PLL)"
   ]
  },
  {
   "cell_type": "markdown",
   "id": "c1c3ed23",
   "metadata": {},
   "source": [
    "### 1.2 V power supply\n",
    "- Add an extra buck converter generating 1.2 V"
   ]
  },
  {
   "cell_type": "code",
   "execution_count": 2,
   "id": "42258c2b",
   "metadata": {},
   "outputs": [
    {
     "name": "stdout",
     "output_type": "stream",
     "text": [
      "---- V = 1.2 ----\n",
      "1.2 r1/r2: 1.0\n",
      "R2 values [ 20.  22.  24.  27.  30.  33.  39.  47.  51.  56.  68.  75.  82. 100.\n",
      " 150.]\n",
      "R1 values [ 20.  22.  24.  27.  30.  33.  39.  47.  51.  56.  68.  75.  82. 100.\n",
      " 150.]\n"
     ]
    }
   ],
   "source": [
    "import numpy as np\n",
    "\n",
    "def get_resistor_ratio(v_out):\n",
    "\treturn ((v_out / 0.6) - 1)\n",
    "\n",
    "resistor_array = np.array([20, 22, 24, 27, 30, 33, 39, 47, 51, 56, 68, 75, 82, 100, 150])\n",
    "vdd_targets = np.array([1.2])\n",
    "# r1_arr = [30, 75, 100]\n",
    "# r2_arr = [24, 24, 22]\n",
    "\n",
    "######### DDR3L\n",
    "for idx, v_target in enumerate(vdd_targets):\n",
    "\tprint(f\"---- V = {v_target} ----\")\n",
    "\tv_target_ratio = get_resistor_ratio(v_target)\n",
    "\tr2_target_arr = np.round(resistor_array / v_target_ratio, 2)\n",
    "\tr1_target_arr = np.round(resistor_array * v_target_ratio, 2)\n",
    "\tprint(f\"{v_target} r1/r2: {v_target_ratio}\")\n",
    "\tprint(f\"R2 values {r2_target_arr}\")\n",
    "\tprint(f\"R1 values {r1_target_arr}\")\n",
    "\n",
    "\t# for r1, r2 in zip(r1_target_arr, r2_target_arr):\n",
    "\t# \tif (r1 in resistor_array):\n",
    "\t# \t\tprint(f\"Perfect r1 found: {r1}\")\n",
    "\t# \tif (r2 in resistor_array):\n",
    "\t# \t\tprint(f\"Perfect r2 found: {r2}\")\n",
    "\n",
    "\t# r1 = r1_arr[idx]\n",
    "\t# r2 = r2_arr[idx]\n",
    "\t# vout_actual = 0.6*(1+r1/r2)\n",
    "\t# print(f\"offset: {((vout_actual - v_target) / v_target) * 100:.2f}%\")"
   ]
  },
  {
   "cell_type": "markdown",
   "id": "ffec5493",
   "metadata": {},
   "source": [
    "**Chose 2 x 100 kOhm**"
   ]
  },
  {
   "cell_type": "markdown",
   "id": "b5272542",
   "metadata": {},
   "source": [
    "## Decoupling capacitors / Ferrites"
   ]
  },
  {
   "cell_type": "markdown",
   "id": "9e8864d9",
   "metadata": {},
   "source": [
    "Reference: Check page 9, ANLAN206 – KSZ9031 G"
   ]
  },
  {
   "cell_type": "markdown",
   "id": "067655cf",
   "metadata": {},
   "source": [
    "- Ferrites: \n",
    "\t- < 0.1 ohms in DC Resistance\n",
    "\t- 60 ohm impedance at 100 MHz\n",
    "\t- example: MPZ1005S600C\n",
    "- Capacitors\n",
    "\t- X7R / X5R\n",
    "\t- Mostly HF decoupling (Do bulk at source)\n",
    "\n",
    "### AVDD_PLL (1.2 V)\n",
    "- Ferrite\n",
    "- 10 uF bulk\n",
    "- 100 nF decoupling\n",
    "\n",
    "### AVDDL (1.2)\n",
    "- Ferrite\n",
    "- 10 uF bulk\n",
    "- 100 nF per pin\n",
    "\n",
    "\n",
    "### AVDDH (3.3 V)\n",
    "- Ferrite\n",
    "- 10 uF X5R bulk capacitance\n",
    "- 1 uF X7R bulk capacitance\n",
    "- 0.1 uF decoupling per pin\n",
    "\n",
    "### DVDDL (1.2 V)\n",
    "- 100 nF decoupling on each pin\n",
    "- Bulk capacitance close enough (10 uF)\n",
    "\n",
    "### DVDDH (3.3 V)\n",
    "- 100 nF per pin\n",
    "- 10 uF bulk"
   ]
  },
  {
   "cell_type": "markdown",
   "id": "05f06532",
   "metadata": {},
   "source": [
    "## Notes\n",
    "### Filtering with ferrites vs filtering with inductors\n",
    "Ferrites\n",
    "- Poorly characterized\n",
    "- Dissipate resistively (also at DC!)\n",
    "- Cheap\n",
    "- Don't resonate\n",
    "\n",
    "Inductors\n",
    "- Well-characterized (up to a certain frequency)\n",
    "\t- 20 dB/dec drop, sharp resonance-filters possible here.\n",
    "- Impedance peak: $f_{0}=\\frac{1}{\\sqrt{2*\\pi*L*C}}$"
   ]
  },
  {
   "cell_type": "markdown",
   "id": "ecb805dd",
   "metadata": {},
   "source": [
    "# Transmit / Receive signals RGMMI\n",
    "- Use Bank 1 for these signals\n",
    "- We don't need any DQS groups for a RGMII interface\n",
    "\t- Rise/Fall/Delay time of a regular FPGA PIO:\n",
    "\t\t- LVCMOS33 has a max output frequency of 150 MHz"
   ]
  },
  {
   "cell_type": "markdown",
   "id": "88e03e60",
   "metadata": {},
   "source": [
    "## Transmit / Receive\n",
    "- TXDi\n",
    "- RXDi\n",
    "### RXDi latching\n",
    "- RXDi, RX_CLK, RX_DV\n",
    "Pull-ups, pull-downs are latched to select the relevant mode during power-on / RESET\n",
    "\n"
   ]
  },
  {
   "cell_type": "markdown",
   "id": "d57d5913",
   "metadata": {},
   "source": [
    "# Clock"
   ]
  },
  {
   "cell_type": "markdown",
   "id": "64d95e19",
   "metadata": {},
   "source": [
    "- XO/XI (clock input / output with crystal feedback)\n",
    "### MDIO / MDC\n",
    "- Management Data Clock Input\n",
    "- Management data input / Output\n",
    "\t- Pull-up (1-4.7 kOhms to VDD_IO)\n"
   ]
  }
 ],
 "metadata": {
  "kernelspec": {
   "display_name": ".venv",
   "language": "python",
   "name": "python3"
  },
  "language_info": {
   "codemirror_mode": {
    "name": "ipython",
    "version": 3
   },
   "file_extension": ".py",
   "mimetype": "text/x-python",
   "name": "python",
   "nbconvert_exporter": "python",
   "pygments_lexer": "ipython3",
   "version": "3.12.3"
  }
 },
 "nbformat": 4,
 "nbformat_minor": 5
}
