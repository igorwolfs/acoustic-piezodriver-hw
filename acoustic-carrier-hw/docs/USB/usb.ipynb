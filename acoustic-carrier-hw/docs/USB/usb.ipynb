{
 "cells": [
  {
   "cell_type": "markdown",
   "id": "c6792abe",
   "metadata": {},
   "source": [
    "# USB Inrush Current limiting\n",
    "We have about 20 uF of capacitance at our input.\n",
    "In order to limit the inrush current.\n",
    "The USB power supply is considered an ideal voltage source.\n",
    "\n",
    "Vbus = "
   ]
  },
  {
   "cell_type": "code",
   "execution_count": null,
   "id": "6c5b7be2",
   "metadata": {},
   "outputs": [],
   "source": []
  }
 ],
 "metadata": {
  "language_info": {
   "name": "python"
  }
 },
 "nbformat": 4,
 "nbformat_minor": 5
}
