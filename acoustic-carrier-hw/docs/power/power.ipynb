{
 "cells": [
  {
   "cell_type": "markdown",
   "id": "6fa6ad10",
   "metadata": {},
   "source": [
    "# Voltage requirements\n",
    "- 2.5 V: auxiliary power supply\n",
    "- 1.275 V: bank voltage supply (depending on bank voltage level)\n",
    "- 3.3 V: Vcc / Vcca analog voltage supply / Core voltage supply"
   ]
  },
  {
   "cell_type": "markdown",
   "id": "00a23a05",
   "metadata": {},
   "source": [
    "# DC-DC converter\n",
    "Choice: TLV62569DRL, similar to ButterStick, with slightly different \n",
    "- capacitor values\n",
    "- resistor values\n",
    "- inductor values"
   ]
  },
  {
   "cell_type": "markdown",
   "id": "a9e1da51",
   "metadata": {},
   "source": [
    "## Feedback Resistors"
   ]
  },
  {
   "cell_type": "markdown",
   "id": "6f234a93",
   "metadata": {},
   "source": [
    "Common values for resistors <= 100 k\n",
    "- 10k, 12k, 15k, 18k, 20k, 22k, 24k, 27k, 30k, 33k, 39k, 47k, 51k, 56k, 68k, 75k, 82k, 100k"
   ]
  },
  {
   "cell_type": "code",
   "execution_count": 21,
   "id": "d3cd72fa",
   "metadata": {},
   "outputs": [
    {
     "name": "stdout",
     "output_type": "stream",
     "text": [
      "---- V = 1.35 ----\n",
      "1.35 r1/r2: 1.2500000000000004\n",
      "R2 values [ 16.   17.6  19.2  21.6  24.   26.4  31.2  37.6  40.8  44.8  54.4  60.\n",
      "  65.6  80.  120. ]\n",
      "R1 values [ 25.    27.5   30.    33.75  37.5   41.25  48.75  58.75  63.75  70.\n",
      "  85.    93.75 102.5  125.   187.5 ]\n",
      "Perfect r1 found: 30.0\n",
      "Perfect r2 found: 24.0\n",
      "offset: -0.00%\n",
      "---- V = 2.5 ----\n",
      "2.5 r1/r2: 3.166666666666667\n",
      "R2 values [ 6.32  6.95  7.58  8.53  9.47 10.42 12.32 14.84 16.11 17.68 21.47 23.68\n",
      " 25.89 31.58 47.37]\n",
      "R1 values [ 63.33  69.67  76.    85.5   95.   104.5  123.5  148.83 161.5  177.33\n",
      " 215.33 237.5  259.67 316.67 475.  ]\n",
      "offset: -1.00%\n",
      "---- V = 3.3 ----\n",
      "3.3 r1/r2: 4.5\n",
      "R2 values [ 4.44  4.89  5.33  6.    6.67  7.33  8.67 10.44 11.33 12.44 15.11 16.67\n",
      " 18.22 22.22 33.33]\n",
      "R1 values [ 90.   99.  108.  121.5 135.  148.5 175.5 211.5 229.5 252.  306.  337.5\n",
      " 369.  450.  675. ]\n",
      "offset: 0.83%\n"
     ]
    }
   ],
   "source": [
    "import numpy as np\n",
    "\n",
    "def get_resistor_ratio(v_out):\n",
    "\treturn ((v_out / 0.6) - 1)\n",
    "\n",
    "resistor_array = np.array([20, 22, 24, 27, 30, 33, 39, 47, 51, 56, 68, 75, 82, 100, 150])\n",
    "vdd_targets = np.array([1.35, 2.5, 3.3])\n",
    "r1_arr = [30, 75, 100]\n",
    "r2_arr = [24, 24, 22]\n",
    "\n",
    "######### DDR3L\n",
    "for idx, v_target in enumerate(vdd_targets):\n",
    "\tprint(f\"---- V = {v_target} ----\")\n",
    "\tv_target_ratio = get_resistor_ratio(v_target)\n",
    "\tr2_target_arr = np.round(resistor_array / v_target_ratio, 2)\n",
    "\tr1_target_arr = np.round(resistor_array * v_target_ratio, 2)\n",
    "\tprint(f\"{v_target} r1/r2: {v_target_ratio}\")\n",
    "\tprint(f\"R2 values {r2_target_arr}\")\n",
    "\tprint(f\"R1 values {r1_target_arr}\")\n",
    "\n",
    "\tfor r1, r2 in zip(r1_target_arr, r2_target_arr):\n",
    "\t\tif (r1 in resistor_array):\n",
    "\t\t\tprint(f\"Perfect r1 found: {r1}\")\n",
    "\t\tif (r2 in resistor_array):\n",
    "\t\t\tprint(f\"Perfect r2 found: {r2}\")\n",
    "\n",
    "\tr1 = r1_arr[idx]\n",
    "\tr2 = r2_arr[idx]\n",
    "\tvout_actual = 0.6*(1+r1/r2)\n",
    "\tprint(f\"offset: {((vout_actual - v_target) / v_target) * 100:.2f}%\")"
   ]
  }
 ],
 "metadata": {
  "kernelspec": {
   "display_name": ".venv",
   "language": "python",
   "name": "python3"
  },
  "language_info": {
   "codemirror_mode": {
    "name": "ipython",
    "version": 3
   },
   "file_extension": ".py",
   "mimetype": "text/x-python",
   "name": "python",
   "nbconvert_exporter": "python",
   "pygments_lexer": "ipython3",
   "version": "3.12.3"
  }
 },
 "nbformat": 4,
 "nbformat_minor": 5
}
