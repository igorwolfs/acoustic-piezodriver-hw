{
 "cells": [
  {
   "cell_type": "markdown",
   "id": "29368cd9",
   "metadata": {},
   "source": [
    "# DDR3 Data DQ groups\n",
    "\n",
    "Data pairs need to be matched separately in DQ-groups, and have more stringent requirements than the other pins:\n",
    "\n",
    "- DQ group 0..7 bits  should be length matched together with their strobes\n",
    "- DQ group 8..15 bits should be length matched together with their strobes\n",
    "\n",
    "## Time Skew\n",
    "- Table 58: DQS, DQS# to DQ skew, per access - tDQSQ: 200 ps max (DDR3L-800) (total time budget)\n",
    "- Period is 2 / 800e6 = 2.5 ns\n",
    "- Between clock pairs\n",
    "\t- 5 ps\n",
    "\t- (300e6 m/s * 50e-12 s) / ((sqrt(4.1) + 1) / 2) = 9.9 mm (6.635 mm in )\n",
    "\n",
    "- Between DQS+ and DQS-: +-2ps\n",
    "\t- \n",
    "- Between DQ-signals: 10 ps\n",
    "\t- "
   ]
  },
  {
   "cell_type": "markdown",
   "id": "5e2053d5",
   "metadata": {},
   "source": [
    "# DDR3 Address pins / Control pins\n",
    "Address pins have less stringent requirements, but should still be matched with the CK+, CK- pairs and should (preferably) use the same bank."
   ]
  },
  {
   "cell_type": "markdown",
   "id": "e64a5f38",
   "metadata": {},
   "source": [
    "# DDR3 Control signals\n",
    "Should be length-matched together with its RAM_CS pins."
   ]
  }
 ],
 "metadata": {
  "language_info": {
   "name": "python"
  }
 },
 "nbformat": 4,
 "nbformat_minor": 5
}
