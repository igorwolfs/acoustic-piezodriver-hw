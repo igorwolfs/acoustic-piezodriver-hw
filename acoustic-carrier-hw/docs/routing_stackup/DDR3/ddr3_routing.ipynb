{
 "cells": [
  {
   "cell_type": "markdown",
   "id": "29368cd9",
   "metadata": {},
   "source": [
    "# DDR3 Data DQ groups\n",
    "\n",
    "Data pairs need to be matched separately in DQ-groups, and have more stringent requirements than the other pins:\n",
    "\n",
    "- DQ group 0..7 bits  should be length matched together with their strobes\n",
    "- DQ group 8..15 bits should be length matched together with their strobes"
   ]
  },
  {
   "cell_type": "markdown",
   "id": "5e2053d5",
   "metadata": {},
   "source": [
    "# DDR3 Address pins / Control pins\n",
    "Address pins have less stringent requirements, but should still be matched with the CK+, CK- pairs and should (preferably) use the same bank."
   ]
  },
  {
   "cell_type": "markdown",
   "id": "e64a5f38",
   "metadata": {},
   "source": [
    "# DDR3 Control signals\n",
    "Should be length-matched together with its RAM_CS pins."
   ]
  }
 ],
 "metadata": {
  "language_info": {
   "name": "python"
  }
 },
 "nbformat": 4,
 "nbformat_minor": 5
}
