{
 "cells": [
  {
   "cell_type": "markdown",
   "id": "cd8a8d60",
   "metadata": {},
   "source": [
    "# I2C Bus"
   ]
  },
  {
   "cell_type": "markdown",
   "id": "cb89af11",
   "metadata": {},
   "source": [
    "## I2C bus checks\n",
    "## Clock frequency\n",
    "- ADC: \n",
    "\t- Fast: 0.01 - 0.4 MHz\n",
    "\t- HS: 0.01 - 3.4 MHz\n",
    "- TEMP:\n",
    "\t- Fast: 0.001 - 0.4 MHz\n",
    "\t- HS: 0.001 - 2.85 MHz\n",
    "## Pull-ups\n",
    "- ADC:\n",
    "\t- 1-10 kOhm on SCL, SDA, IO (ALERT/RDY)\n",
    "\n",
    "## Clock stretching\n",
    "- ADC: not done\n"
   ]
  }
 ],
 "metadata": {
  "language_info": {
   "name": "python"
  }
 },
 "nbformat": 4,
 "nbformat_minor": 5
}
