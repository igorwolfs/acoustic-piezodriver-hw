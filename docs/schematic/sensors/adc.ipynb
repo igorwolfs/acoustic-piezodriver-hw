{
 "cells": [
  {
   "cell_type": "markdown",
   "id": "0762759e",
   "metadata": {},
   "source": [
    "# ADS1115"
   ]
  },
  {
   "cell_type": "markdown",
   "id": "b613c6b0",
   "metadata": {},
   "source": [
    "## Accuracy\n",
    "- 16-bit ADC\n",
    "### Voltage measurement range (+/-)\n",
    "- 6.144 V\n",
    "- 4.096 V\n",
    "- 2.048 V\n",
    "- 1.024 V\n",
    "- 0.512 V\n",
    "- 0.256 V\n",
    "\n",
    "## Impedance\n",
    "- Common mode: \n",
    "\t- Impedance measured by shorting pins and measuring current flowing through the 2 pins\n",
    "\t- 100 MOhm for 0.512 V, 0.256 V\n",
    "\t- 3 MOhm for 1.024 V\n",
    "\t- 6 MOhm for 2.048 V\n",
    "- Differential input impedance:\n",
    "\t- Impedance measured by applying differential voltage, and measuring current from one pin to another\n",
    "\t- 710 kOhm for 0.512 V, 0.256 V\n",
    "\t- 2.4 MOhm for 1.024 V\n",
    "\t- 4.9 MOhm at 2.048 V\n",
    "\n",
    "Guess: \n",
    "- The differential impedance is the one that matters.\n",
    "- This is the impedance measured between the 2 inputs.\n"
   ]
  },
  {
   "cell_type": "markdown",
   "id": "e5436b4a",
   "metadata": {},
   "source": [
    "## Fsample\n",
    "- 2**3 (8) SPS\n",
    "- 2**4 (16) SPS\n",
    "- ..\n",
    "- 2**7 (128) SPS\n",
    "- 250 SPS\n",
    "- 475 SPS\n",
    "- 860 SPS"
   ]
  },
  {
   "cell_type": "markdown",
   "id": "9efa7710",
   "metadata": {},
   "source": [
    "## ESD protection\n",
    "- ESD diodes are integrated to VDD and GND\n"
   ]
  },
  {
   "cell_type": "markdown",
   "id": "ff096351",
   "metadata": {},
   "source": [
    "## Differential vs Single-Ended\n",
    "It seems that you can choose\n",
    "- Either 2 differential inputs\n",
    "- Either 4 single-ended inputs\n",
    "\n",
    "There's MUXing going on where channels can be configured while the ADC is running to be \n",
    "- Differential\n",
    "- Single ended\n",
    "\n",
    "Measurements to be done:\n",
    "- Measure the VBATT voltage\n",
    "- Measure the Current going to the FPGA\n",
    "- Measure the total current coming from the connector -> Buffer and turn into single-ended\n",
    "- Measure the current going to VDC (inverter) differentially -> Buffer and turn into single-ended\n"
   ]
  },
  {
   "cell_type": "markdown",
   "id": "7b3a8457",
   "metadata": {},
   "source": [
    "## Required signal gain\n",
    "- Current measurement resistors: 0.002 mOhm\n",
    "- Common-mode input impedance: 100 MOhm (FSR  +-0.256 mV)"
   ]
  },
  {
   "cell_type": "markdown",
   "id": "72395816",
   "metadata": {},
   "source": [
    "### ITOT Measurement\n",
    "- Itot: 0.1 - 5 A"
   ]
  },
  {
   "cell_type": "code",
   "execution_count": 7,
   "id": "0f6f333a",
   "metadata": {},
   "outputs": [
    {
     "name": "stdout",
     "output_type": "stream",
     "text": [
      "Vrange: 0.004 - 0.2\n",
      "P_max: 0.05\n"
     ]
    }
   ],
   "source": [
    "R_current = 0.002\n",
    "Ampl = 20\n",
    "# Current\n",
    "I_min = 0.1\n",
    "I_max = 5\n",
    "\n",
    "# Voltage\n",
    "V_Itot_min = I_min*R_current * Ampl\n",
    "V_Itot_max = I_max*R_current * Ampl\n",
    "\n",
    "# P_max\n",
    "P_max = R_current * I_max * I_max\n",
    "\n",
    "\n",
    "print(f\"Vrange: {V_Itot_min} - {V_Itot_max}\")\n",
    "print(f\"P_max: {P_max}\")"
   ]
  },
  {
   "cell_type": "markdown",
   "id": "48d797d2",
   "metadata": {},
   "source": [
    "### IDC Measurement\n",
    "- I_dc: 0 - 5 A"
   ]
  },
  {
   "cell_type": "code",
   "execution_count": 8,
   "id": "ef6293ca",
   "metadata": {},
   "outputs": [
    {
     "name": "stdout",
     "output_type": "stream",
     "text": [
      "Vrange: 0.004 - 0.2\n",
      "P_max: 0.05\n"
     ]
    }
   ],
   "source": [
    "R_current = 0.002\n",
    "\n",
    "Ampl = 20\n",
    "# Current\n",
    "I_min = 0.1\n",
    "I_max = 5\n",
    "\n",
    "# Voltage\n",
    "V_Itot_min = I_min*R_current * Ampl\n",
    "V_Itot_max = I_max*R_current * Ampl\n",
    "\n",
    "# P_max\n",
    "P_max = R_current * I_max * I_max\n",
    "\n",
    "\n",
    "print(f\"Vrange: {V_Itot_min} - {V_Itot_max}\")\n",
    "print(f\"P_max: {P_max}\")"
   ]
  },
  {
   "cell_type": "markdown",
   "id": "c309c74e",
   "metadata": {},
   "source": [
    "### IFPGA Measurement\n",
    "- I_fpga: 0 - 2 A"
   ]
  },
  {
   "cell_type": "code",
   "execution_count": 9,
   "id": "24d987f6",
   "metadata": {},
   "outputs": [
    {
     "name": "stdout",
     "output_type": "stream",
     "text": [
      "Vrange: 0.01 - 0.2\n",
      "P_max: 0.008\n"
     ]
    }
   ],
   "source": [
    "R_current = 0.002\n",
    "\n",
    "Ampl = 50\n",
    "# Current\n",
    "I_min = 0.1\n",
    "I_max = 2\n",
    "\n",
    "# Voltage\n",
    "V_Ifpga_min = I_min*R_current * Ampl\n",
    "V_Ifpga_max = I_max*R_current * Ampl\n",
    "\n",
    "# P_max\n",
    "P_max = R_current * I_max * I_max\n",
    "\n",
    "print(f\"Vrange: {V_Ifpga_min} - {V_Ifpga_max}\")\n",
    "print(f\"P_max: {P_max}\")"
   ]
  },
  {
   "cell_type": "markdown",
   "id": "51bce125",
   "metadata": {},
   "source": [
    "### VBATT Measurement\n",
    "- Vbatt: 0 -> 25 V\n",
    "- Vmeas: +-256 mV .. +- 6.144 V"
   ]
  },
  {
   "cell_type": "code",
   "execution_count": 6,
   "id": "b125562d",
   "metadata": {},
   "outputs": [
    {
     "name": "stdout",
     "output_type": "stream",
     "text": [
      "Vrange: [0.008192000000000001, 2.048]\n",
      "R2_div: 1800, R1_div: 20172.656249999996, Rth_source: 1652.544 Ohm\n",
      "Check: 0.08256880733944955 == 0.08192\n",
      "P_max: 26.529564338544734 mW\n"
     ]
    }
   ],
   "source": [
    "Vbat_min = 0.1\n",
    "Vbat_max = 25\n",
    "Vin_max = 2.048\n",
    "div = Vin_max / Vbat_max\n",
    "\n",
    "print(f\"Vrange: [{div * Vbat_min}, {div * Vbat_max}]\")\n",
    "\n",
    "# Thevenin equivalent impedance calculation\n",
    "R2_div = 1800\n",
    "R1_div = (1/div) * R2_div - R2_div\n",
    "Rth_source = 1/((1/R1_div) + (1/R2_div))\n",
    "print(f\"R2_div: {R2_div}, R1_div: {R1_div}, Rth_source: {round(Rth_source,3)} Ohm\")\n",
    "R1 = 20e3\n",
    "R2 = R2_div\n",
    "check = (R2 / (R1+R2))\n",
    "print(f\"Check: {check} == {div}\")\n",
    "\n",
    "I_max = (Vbat_max / (R2+R1))\n",
    "P_max = R1_div * I_max * I_max\n",
    "print(f\"P_max: {P_max*1e3} mW\")"
   ]
  },
  {
   "cell_type": "markdown",
   "id": "652feeb3",
   "metadata": {},
   "source": [
    "## HV-problems\n",
    "\n",
    "### Issue\n",
    "Current measurements are easier done between supply and ground, in-circuit current measurements need to be isolated, since \n",
    "- OPAMPS can't handle voltages above their Vcc.\n",
    "- Measuring raw voltage would give too high of a voltage drop for the voltage to be measured.\n",
    "\n",
    "Solution: using a current-sensor. (Hall-effect sensor)"
   ]
  },
  {
   "cell_type": "markdown",
   "id": "57edc244",
   "metadata": {},
   "source": [
    "## ACS711\n",
    "- Output voltage: \n",
    "\t- Vuoh: Vcc-0.3 (so Vcc = 3V3)\n",
    "\t- viol: 0.3 V\n",
    "- Sensitivity: 90 mV/A\n",
    "\t- 5 A: 450 mV\n",
    "\t- 2 A: 180 mV"
   ]
  },
  {
   "cell_type": "markdown",
   "id": "b8cbbc76",
   "metadata": {},
   "source": [
    "### What is the conductivity when no power supplied\n",
    "- Should be full, since the positive and negative are simply connected\n",
    "\t- Hall sensor simply measures the induced EMF through the high current\n",
    "\n",
    "### Bandwidth of the voltage signal\n",
    "- 100 kHz\n",
    "\t- Perhaps some low-pass filtering is in order to filter-out high frequency noise.\n",
    "\t- Simple RC-filter"
   ]
  },
  {
   "cell_type": "markdown",
   "id": "05c1a141",
   "metadata": {},
   "source": [
    "### Source impedance of the Vout signal indicating the current?\n",
    "- Supposed to be buffered according ot the block diagram.\n",
    "- Impedances\n",
    "\t- R_load: 15 kOhm\n",
    "\t- C_load: 1 nF (maximum)"
   ]
  },
  {
   "cell_type": "code",
   "execution_count": 11,
   "id": "6d296566",
   "metadata": {},
   "outputs": [
    {
     "name": "stdout",
     "output_type": "stream",
     "text": [
      "LP fc: 10.61 kHz\n"
     ]
    }
   ],
   "source": [
    "import math\n",
    "R_load = 15e3 # Added as external resistor\n",
    "C_load = 1e-9 # Added as external capacitor\n",
    "# So RC filter pole\n",
    "fc = 1/(2*math.pi * R_load * C_load)\n",
    "\n",
    "print(f\"LP fc: {round(fc*1e-3, 2)} kHz\")"
   ]
  },
  {
   "cell_type": "markdown",
   "id": "b83d7e6f",
   "metadata": {},
   "source": [
    "## Issue\n",
    "It seems like the source impedance might be slightly low. Consider changing the hall-effect sensor so\n",
    "- We can select a higher output voltage -> higher ADC input impedance\n",
    "- We can have a lower source impedance"
   ]
  },
  {
   "cell_type": "markdown",
   "id": "1a1abffe",
   "metadata": {},
   "source": [
    "## Solution: TMCS1108\n",
    "- Load impedance virtually 0 (0.2 - 2 Ohms)\n",
    "- Max capacitive load: 1 nF\n",
    "- 90 mA short-circuit current\n",
    "\n",
    "### Add an RC filter here for noise filtering and current limiting\n",
    "\n",
    "- $fc = 1/(2*\\pi*R*C) = 1e3$\n",
    "- $1 / (R*C)= 6.3 k\\Omega$"
   ]
  },
  {
   "cell_type": "code",
   "execution_count": 26,
   "id": "6d23b8e7",
   "metadata": {},
   "outputs": [
    {
     "name": "stdout",
     "output_type": "stream",
     "text": [
      "RC_Prod: 0.00015915494309189535\n",
      "R: 1.0 kOhm, C: 159.15494309189535 nF\n",
      "R_choice: 1.0 kOhm, C_choice: 220.0 nF, f_cutoff = 0.72 kHz\n"
     ]
    }
   ],
   "source": [
    "import math\n",
    "fc = 1e3\n",
    "RC_prod = 1 / (2 * math.pi * 1e3)\n",
    "print(f\"RC_Prod: {RC_prod}\")\n",
    "R_temp = 1e3\n",
    "C_temp = RC_prod / R_temp\n",
    "print(f\"R: {R_temp*1e-3} kOhm, C: {C_temp * 1e9} nF\")\n",
    "R_choice = 1e3\n",
    "C_choice = 220e-9\n",
    "print(f\"R_choice: {R_choice*1e-3} kOhm, C_choice: {C_choice * 1e9} nF, f_cutoff = {round(1/(2*math.pi * R_choice * C_choice) * 1e-3, 2)} kHz\")"
   ]
  },
  {
   "cell_type": "markdown",
   "id": "e9d913dd",
   "metadata": {},
   "source": []
  }
 ],
 "metadata": {
  "kernelspec": {
   "display_name": "Python 3",
   "language": "python",
   "name": "python3"
  },
  "language_info": {
   "codemirror_mode": {
    "name": "ipython",
    "version": 3
   },
   "file_extension": ".py",
   "mimetype": "text/x-python",
   "name": "python",
   "nbconvert_exporter": "python",
   "pygments_lexer": "ipython3",
   "version": "3.12.3"
  }
 },
 "nbformat": 4,
 "nbformat_minor": 5
}
