{
 "cells": [
  {
   "cell_type": "markdown",
   "id": "0762759e",
   "metadata": {},
   "source": [
    "# ADS1115"
   ]
  },
  {
   "cell_type": "markdown",
   "id": "ff096351",
   "metadata": {},
   "source": [
    "## Differential vs Single-Ended\n",
    "It seems that you can choose\n",
    "- Either 2 differential inputs\n",
    "- Either 4 single-ended inputs\n",
    "\n",
    "There's MUXing going on where channels can be configured while the ADC is running to be \n",
    "- Differential\n",
    "- Single ended\n",
    "\n",
    "Measurements to be done:\n",
    "- Measure the VBATT voltage\n",
    "- Measure the Current going to the FPGA\n",
    "- Measure the total current coming from the connector -> Buffer and turn into single-ended\n",
    "- Measure the current going to VDC (inverter) differentially -> Buffer and turn into single-ended\n"
   ]
  },
  {
   "cell_type": "markdown",
   "id": "7b3a8457",
   "metadata": {},
   "source": [
    "## Required signal gain\n",
    "- Current measurement resistors: 0.002 mOhm\n",
    "- Common-mode input impedance: 100 MOhm (FSR  +-0.256 mV)"
   ]
  },
  {
   "cell_type": "markdown",
   "id": "72395816",
   "metadata": {},
   "source": [
    "### ITOT Measurement\n",
    "- Itot: 0.1 - 5 A"
   ]
  },
  {
   "cell_type": "code",
   "execution_count": 24,
   "id": "0f6f333a",
   "metadata": {},
   "outputs": [
    {
     "name": "stdout",
     "output_type": "stream",
     "text": [
      "Vrange: 0.004 - 0.2\n",
      "P_max: 0.05\n"
     ]
    }
   ],
   "source": [
    "R_current = 0.002\n",
    "Ampl = 20\n",
    "# Current\n",
    "I_min = 0.1\n",
    "I_max = 5\n",
    "\n",
    "# Voltage\n",
    "V_Itot_min = I_min*R_current * Ampl\n",
    "V_Itot_max = I_max*R_current * Ampl\n",
    "\n",
    "# P_max\n",
    "P_max = R_current * I_max * I_max\n",
    "\n",
    "\n",
    "print(f\"Vrange: {V_Itot_min} - {V_Itot_max}\")\n",
    "print(f\"P_max: {P_max}\")"
   ]
  },
  {
   "cell_type": "markdown",
   "id": "48d797d2",
   "metadata": {},
   "source": [
    "### IDC Measurement\n",
    "- I_dc: 0 - 5 A"
   ]
  },
  {
   "cell_type": "code",
   "execution_count": 25,
   "id": "ef6293ca",
   "metadata": {},
   "outputs": [
    {
     "name": "stdout",
     "output_type": "stream",
     "text": [
      "Vrange: 0.004 - 0.2\n",
      "P_max: 0.05\n"
     ]
    }
   ],
   "source": [
    "R_current = 0.002\n",
    "\n",
    "Ampl = 20\n",
    "# Current\n",
    "I_min = 0.1\n",
    "I_max = 5\n",
    "\n",
    "# Voltage\n",
    "V_Itot_min = I_min*R_current * Ampl\n",
    "V_Itot_max = I_max*R_current * Ampl\n",
    "\n",
    "# P_max\n",
    "P_max = R_current * I_max * I_max\n",
    "\n",
    "\n",
    "print(f\"Vrange: {V_Itot_min} - {V_Itot_max}\")\n",
    "print(f\"P_max: {P_max}\")"
   ]
  },
  {
   "cell_type": "markdown",
   "id": "c309c74e",
   "metadata": {},
   "source": [
    "### IFPGA Measurement\n",
    "- I_fpga: 0 - 2 A"
   ]
  },
  {
   "cell_type": "code",
   "execution_count": 30,
   "id": "24d987f6",
   "metadata": {},
   "outputs": [
    {
     "name": "stdout",
     "output_type": "stream",
     "text": [
      "Vrange: 0.01 - 0.2\n",
      "P_max: 0.008\n"
     ]
    }
   ],
   "source": [
    "R_current = 0.002\n",
    "\n",
    "Ampl = 50\n",
    "# Current\n",
    "I_min = 0.1\n",
    "I_max = 2\n",
    "\n",
    "# Voltage\n",
    "V_Ifpga_min = I_min*R_current * Ampl\n",
    "V_Ifpga_max = I_max*R_current * Ampl\n",
    "\n",
    "# P_max\n",
    "P_max = R_current * I_max * I_max\n",
    "\n",
    "print(f\"Vrange: {V_Ifpga_min} - {V_Ifpga_max}\")\n",
    "print(f\"P_max: {P_max}\")"
   ]
  },
  {
   "cell_type": "markdown",
   "id": "51bce125",
   "metadata": {},
   "source": [
    "### VBATT Measurement\n",
    "- Vbatt: 0 -> 25 V\n",
    "- Vmeas: +-256 mV .. +- 6.144 V"
   ]
  },
  {
   "cell_type": "code",
   "execution_count": 54,
   "id": "b125562d",
   "metadata": {},
   "outputs": [
    {
     "name": "stdout",
     "output_type": "stream",
     "text": [
      "Vrange: [0.001, 0.25]\n",
      "R2_div: 200, R1_div: 19800.0, Rth_source: 198.0 Ohm\n",
      "Check: 0.009900990099009901 == 0.01\n",
      "P_max: 30.32790902852662 mW\n"
     ]
    }
   ],
   "source": [
    "Vbat_min = 0.1\n",
    "Vbat_max = 25\n",
    "div = 0.01\n",
    "\n",
    "print(f\"Vrange: [{div * Vbat_min}, {div * Vbat_max}]\")\n",
    "\n",
    "# Thevenin equivalent impedance calculation\n",
    "R2_div = 200\n",
    "R1_div = (1/div) * R2_div - R2_div\n",
    "Rth_source = 1/((1/R1_div) + (1/R2_div))\n",
    "print(f\"R2_div: {R2_div}, R1_div: {R1_div}, Rth_source: {round(Rth_source,3)} Ohm\")\n",
    "R1 = 20e3\n",
    "R2 = R2_div\n",
    "check = (R2 / (R1+R2))\n",
    "print(f\"Check: {check} == {div}\")\n",
    "\n",
    "I_max = (Vbat_max / (R2+R1))\n",
    "P_max = R1_div * I_max * I_max\n",
    "print(f\"P_max: {P_max*1e3} mW\")"
   ]
  },
  {
   "cell_type": "code",
   "execution_count": null,
   "id": "5a0c7178",
   "metadata": {},
   "outputs": [],
   "source": []
  }
 ],
 "metadata": {
  "kernelspec": {
   "display_name": "Python 3",
   "language": "python",
   "name": "python3"
  },
  "language_info": {
   "codemirror_mode": {
    "name": "ipython",
    "version": 3
   },
   "file_extension": ".py",
   "mimetype": "text/x-python",
   "name": "python",
   "nbconvert_exporter": "python",
   "pygments_lexer": "ipython3",
   "version": "3.12.3"
  }
 },
 "nbformat": 4,
 "nbformat_minor": 5
}
