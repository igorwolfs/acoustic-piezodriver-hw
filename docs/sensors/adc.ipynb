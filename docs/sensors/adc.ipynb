{
 "cells": [
  {
   "cell_type": "markdown",
   "id": "0762759e",
   "metadata": {},
   "source": [
    "# ADS1115"
   ]
  },
  {
   "cell_type": "markdown",
   "id": "ff096351",
   "metadata": {},
   "source": [
    "## Differential vs Single-Ended\n",
    "It seems that you can choose\n",
    "- Either 2 differential inputs\n",
    "- Either 4 single-ended inputs\n",
    "\n",
    "There's MUXing going on where channels can be configured while the ADC is running to be \n",
    "- Differential\n",
    "- Single ended\n",
    "\n",
    "Measurements to be done:\n",
    "- Measure the VBATT voltage\n",
    "- Measure the Current going to the FPGA\n",
    "- Measure the total current coming from the connector -> Buffer and turn into single-ended\n",
    "- Measure the current going to VDC (inverter) differentially -> Buffer and turn into single-ended\n"
   ]
  },
  {
   "cell_type": "markdown",
   "id": "7b3a8457",
   "metadata": {},
   "source": [
    "## Required signal gain\n",
    "- Current measurement resistors: 0.002 mOhm"
   ]
  },
  {
   "cell_type": "markdown",
   "id": "72395816",
   "metadata": {},
   "source": [
    "### ITOT Measurement\n",
    "- Itot: 0.1 - 7 A"
   ]
  },
  {
   "cell_type": "code",
   "execution_count": null,
   "id": "0f6f333a",
   "metadata": {},
   "outputs": [
    {
     "name": "stdout",
     "output_type": "stream",
     "text": [
      "itot: 0.0002 - 0.014\n"
     ]
    }
   ],
   "source": [
    "R_current = 0.002\n",
    "V_Itot_min = 0.1*0.002\n",
    "V_Itot_max = 7*0.002\n",
    "print(f\"itot: {V_Itot_min} - {V_Itot_max}\")"
   ]
  },
  {
   "cell_type": "markdown",
   "id": "48d797d2",
   "metadata": {},
   "source": [
    "### IDC Measurement\n",
    "- I_dc: 0 - 7 A"
   ]
  },
  {
   "cell_type": "code",
   "execution_count": 4,
   "id": "ef6293ca",
   "metadata": {},
   "outputs": [
    {
     "name": "stdout",
     "output_type": "stream",
     "text": [
      "itot: 0.0002 - 0.014\n"
     ]
    }
   ],
   "source": [
    "V_Idc_min = 0.1*0.002\n",
    "V_Idc_max = 7*0.002\n",
    "print(f\"itot: {V_Idc_min} - {V_Idc_max}\")"
   ]
  },
  {
   "cell_type": "markdown",
   "id": "c309c74e",
   "metadata": {},
   "source": [
    "### IFPGA Measurement\n",
    "- I_fpga: 0 - 2 A"
   ]
  },
  {
   "cell_type": "code",
   "execution_count": 5,
   "id": "24d987f6",
   "metadata": {},
   "outputs": [
    {
     "name": "stdout",
     "output_type": "stream",
     "text": [
      "itot: 0.0002 - 0.004\n"
     ]
    }
   ],
   "source": [
    "V_Ifpga_min = 0.1*0.002\n",
    "V_Ifpga_max = 2*0.002\n",
    "print(f\"itot: {V_Ifpga_min} - {V_Ifpga_max}\")"
   ]
  },
  {
   "cell_type": "markdown",
   "id": "51bce125",
   "metadata": {},
   "source": [
    "### VBATT Measurement\n",
    "- Vbatt: 0 -> 25 V\n",
    "- Vmeas: +-256 mV .. +- 6.144 V"
   ]
  },
  {
   "cell_type": "code",
   "execution_count": null,
   "id": "b125562d",
   "metadata": {},
   "outputs": [],
   "source": []
  }
 ],
 "metadata": {
  "kernelspec": {
   "display_name": "Python 3",
   "language": "python",
   "name": "python3"
  },
  "language_info": {
   "codemirror_mode": {
    "name": "ipython",
    "version": 3
   },
   "file_extension": ".py",
   "mimetype": "text/x-python",
   "name": "python",
   "nbconvert_exporter": "python",
   "pygments_lexer": "ipython3",
   "version": "3.12.3"
  }
 },
 "nbformat": 4,
 "nbformat_minor": 5
}
